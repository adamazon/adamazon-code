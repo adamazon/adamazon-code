{
 "cells": [
  {
   "cell_type": "markdown",
   "metadata": {},
   "source": [
    "# Amazon reviews\n",
    "\n",
    "> To get a better notebook formatting, [click here](https://nbviewer.jupyter.org/github/Coac/epfl-ada/blob/master/Project/Project.ipynb).\n",
    "\n",
    "This notebook contains an exploratory analysis of one specific category of products of the Amazon reviews. Our objective is to be able to understand how reviews are distributed and find some useful insights to provide a deeper analysis to answer our research questions.\n",
    "\n",
    "## Summary\n",
    "\n",
    "1. [Data importation](#Data-importation)\n",
    "2. [Descriptive analysis](#Descriptive-analysis)\n",
    "3. [Correlations](#Correlations)\n",
    "4. [Machine learning exploratory](#Machine-learning-exploratory)"
   ]
  },
  {
   "cell_type": "code",
   "execution_count": 62,
   "metadata": {},
   "outputs": [],
   "source": [
    "%matplotlib inline\n",
    "import pandas as pd\n",
    "import numpy as np\n",
    "import warnings\n",
    "from datetime import datetime\n",
    "from matplotlib import pyplot as plt"
   ]
  },
  {
   "cell_type": "markdown",
   "metadata": {},
   "source": [
    "## Data importation\n",
    "\n",
    "We first start by importing data. Because we focus on one specific category (*video games*), we won't need to use Spark here.\n",
    "\n",
    "### Download the data\n",
    "\n",
    "We will use the 5-core reviews which can be downloaded here: http://jmcauley.ucsd.edu/data/amazon/. The exact file used for video games import is http://snap.stanford.edu/data/amazon/productGraph/categoryFiles/reviews_Video_Games_5.json.gz.\n",
    "\n",
    "### File preparation\n",
    "\n",
    "After downloading the file, we turn it to a valid, json array to ease importation. We use the following sed commands to do so:\n",
    "\n",
    "```sh\n",
    "sed -i '1s/^/[/' data/file.json # Starts JSON array\n",
    "sed -i 's/$/,/' data/file.json # Separate objects with commas\n",
    "sed -i '$ s/,$/]/g' data/file.json # Ends JSON array\n",
    "```"
   ]
  },
  {
   "cell_type": "markdown",
   "metadata": {},
   "source": [
    "### Pandas importation\n",
    "\n",
    "We import data and start by doing some simple cleaning. Dates are stored in two different formats (`reviewTime` and `unixReviewTime`). We will use the latest one to create a new `date` field with standard DateTime format, which will be easier to handle.\n",
    "\n",
    "We create a two-level index to allow grouping reviews per product and reviewer."
   ]
  },
  {
   "cell_type": "code",
   "execution_count": 80,
   "metadata": {},
   "outputs": [
    {
     "data": {
      "text/plain": [
       "helpful                 object\n",
       "overall                  int64\n",
       "reviewText              object\n",
       "reviewerName            object\n",
       "summary                 object\n",
       "date            datetime64[ns]\n",
       "dtype: object"
      ]
     },
     "execution_count": 80,
     "metadata": {},
     "output_type": "execute_result"
    }
   ],
   "source": [
    "video_games = pd.read_json('./data/video-games.json')\n",
    "\n",
    "# Cleaning dates\n",
    "del video_games['reviewTime'] # Duplicated information (already in unix review time)\n",
    "video_games['date'] = pd.to_datetime(video_games['unixReviewTime'], unit='s')\n",
    "del video_games['unixReviewTime']\n",
    "\n",
    "video_games.set_index(['asin', 'reviewerID'], inplace=True)\n",
    "\n",
    "assert video_games.index.is_unique, 'There should be no more than one review per person per product'\n",
    "\n",
    "video_games.dtypes"
   ]
  },
  {
   "cell_type": "markdown",
   "metadata": {},
   "source": [
    "We can see data types are already guessed by Pandas. We need, however, to reformat the `helpful` field. It is currently stored as an array of two values, the first one describing how many users voted the review was helpful and the second one describing how many votes the review received."
   ]
  },
  {
   "cell_type": "markdown",
   "metadata": {},
   "source": [
    "### Data formatting\n",
    "\n",
    "To ease data handling, we will calculate the `helpfulRate` of each comment. It will help us extracting which reviewers are providing the best reviews on one or multiple products. When a review does not have any helpful votes, the rate will be set to `-1`.\n",
    "\n",
    "We also store the number of total reviews in a new row so we can take rid of the helpful array."
   ]
  },
  {
   "cell_type": "code",
   "execution_count": 81,
   "metadata": {},
   "outputs": [
    {
     "data": {
      "text/html": [
       "<div>\n",
       "<style>\n",
       "    .dataframe thead tr:only-child th {\n",
       "        text-align: right;\n",
       "    }\n",
       "\n",
       "    .dataframe thead th {\n",
       "        text-align: left;\n",
       "    }\n",
       "\n",
       "    .dataframe tbody tr th {\n",
       "        vertical-align: top;\n",
       "    }\n",
       "</style>\n",
       "<table border=\"1\" class=\"dataframe\">\n",
       "  <thead>\n",
       "    <tr style=\"text-align: right;\">\n",
       "      <th></th>\n",
       "      <th></th>\n",
       "      <th>overall</th>\n",
       "      <th>reviewText</th>\n",
       "      <th>reviewerName</th>\n",
       "      <th>summary</th>\n",
       "      <th>date</th>\n",
       "      <th>helpfulRate</th>\n",
       "      <th>helpfulCount</th>\n",
       "    </tr>\n",
       "    <tr>\n",
       "      <th>asin</th>\n",
       "      <th>reviewerID</th>\n",
       "      <th></th>\n",
       "      <th></th>\n",
       "      <th></th>\n",
       "      <th></th>\n",
       "      <th></th>\n",
       "      <th></th>\n",
       "      <th></th>\n",
       "    </tr>\n",
       "  </thead>\n",
       "  <tbody>\n",
       "    <tr>\n",
       "      <th rowspan=\"5\" valign=\"top\">0700099867</th>\n",
       "      <th>A2HD75EMZR8QLN</th>\n",
       "      <td>1</td>\n",
       "      <td>Installing the game was a struggle (because of...</td>\n",
       "      <td>123</td>\n",
       "      <td>Pay to unlock content? I don't think so.</td>\n",
       "      <td>2012-07-09</td>\n",
       "      <td>0.666667</td>\n",
       "      <td>12</td>\n",
       "    </tr>\n",
       "    <tr>\n",
       "      <th>A3UR8NLLY1ZHCX</th>\n",
       "      <td>4</td>\n",
       "      <td>If you like rally cars get this game you will ...</td>\n",
       "      <td>Alejandro Henao \"Electronic Junky\"</td>\n",
       "      <td>Good rally game</td>\n",
       "      <td>2013-06-30</td>\n",
       "      <td>-1.000000</td>\n",
       "      <td>0</td>\n",
       "    </tr>\n",
       "    <tr>\n",
       "      <th>A1INA0F5CWW3J4</th>\n",
       "      <td>1</td>\n",
       "      <td>1st shipment received a book instead of the ga...</td>\n",
       "      <td>Amazon Shopper \"Mr.Repsol\"</td>\n",
       "      <td>Wrong key</td>\n",
       "      <td>2014-06-28</td>\n",
       "      <td>-1.000000</td>\n",
       "      <td>0</td>\n",
       "    </tr>\n",
       "    <tr>\n",
       "      <th>A1DLMTOTHQ4AST</th>\n",
       "      <td>3</td>\n",
       "      <td>I got this version instead of the PS3 version,...</td>\n",
       "      <td>ampgreen</td>\n",
       "      <td>awesome game, if it did not crash frequently !!</td>\n",
       "      <td>2011-09-14</td>\n",
       "      <td>0.700000</td>\n",
       "      <td>10</td>\n",
       "    </tr>\n",
       "    <tr>\n",
       "      <th>A361M14PU2GUEG</th>\n",
       "      <td>4</td>\n",
       "      <td>I had Dirt 2 on Xbox 360 and it was an okay ga...</td>\n",
       "      <td>Angry Ryan \"Ryan A. Forrest\"</td>\n",
       "      <td>DIRT 3</td>\n",
       "      <td>2011-06-14</td>\n",
       "      <td>1.000000</td>\n",
       "      <td>2</td>\n",
       "    </tr>\n",
       "  </tbody>\n",
       "</table>\n",
       "</div>"
      ],
      "text/plain": [
       "                           overall  \\\n",
       "asin       reviewerID                \n",
       "0700099867 A2HD75EMZR8QLN        1   \n",
       "           A3UR8NLLY1ZHCX        4   \n",
       "           A1INA0F5CWW3J4        1   \n",
       "           A1DLMTOTHQ4AST        3   \n",
       "           A361M14PU2GUEG        4   \n",
       "\n",
       "                                                                  reviewText  \\\n",
       "asin       reviewerID                                                          \n",
       "0700099867 A2HD75EMZR8QLN  Installing the game was a struggle (because of...   \n",
       "           A3UR8NLLY1ZHCX  If you like rally cars get this game you will ...   \n",
       "           A1INA0F5CWW3J4  1st shipment received a book instead of the ga...   \n",
       "           A1DLMTOTHQ4AST  I got this version instead of the PS3 version,...   \n",
       "           A361M14PU2GUEG  I had Dirt 2 on Xbox 360 and it was an okay ga...   \n",
       "\n",
       "                                                 reviewerName  \\\n",
       "asin       reviewerID                                           \n",
       "0700099867 A2HD75EMZR8QLN                                 123   \n",
       "           A3UR8NLLY1ZHCX  Alejandro Henao \"Electronic Junky\"   \n",
       "           A1INA0F5CWW3J4          Amazon Shopper \"Mr.Repsol\"   \n",
       "           A1DLMTOTHQ4AST                            ampgreen   \n",
       "           A361M14PU2GUEG        Angry Ryan \"Ryan A. Forrest\"   \n",
       "\n",
       "                                                                   summary  \\\n",
       "asin       reviewerID                                                        \n",
       "0700099867 A2HD75EMZR8QLN         Pay to unlock content? I don't think so.   \n",
       "           A3UR8NLLY1ZHCX                                  Good rally game   \n",
       "           A1INA0F5CWW3J4                                        Wrong key   \n",
       "           A1DLMTOTHQ4AST  awesome game, if it did not crash frequently !!   \n",
       "           A361M14PU2GUEG                                           DIRT 3   \n",
       "\n",
       "                                date  helpfulRate  helpfulCount  \n",
       "asin       reviewerID                                            \n",
       "0700099867 A2HD75EMZR8QLN 2012-07-09     0.666667            12  \n",
       "           A3UR8NLLY1ZHCX 2013-06-30    -1.000000             0  \n",
       "           A1INA0F5CWW3J4 2014-06-28    -1.000000             0  \n",
       "           A1DLMTOTHQ4AST 2011-09-14     0.700000            10  \n",
       "           A361M14PU2GUEG 2011-06-14     1.000000             2  "
      ]
     },
     "execution_count": 81,
     "metadata": {},
     "output_type": "execute_result"
    }
   ],
   "source": [
    "def helpful_rate(row):\n",
    "    '''\n",
    "    Calculates the helpful rate of a review by determining what\n",
    "    percentage of the votes described the review as \"helpful\".\n",
    "    '''\n",
    "    was_helpful = row.helpful[0]\n",
    "    total_evaluations = row.helpful[1]\n",
    "    \n",
    "    if total_evaluations == 0:\n",
    "        return -1\n",
    "    \n",
    "    return was_helpful/total_evaluations\n",
    "\n",
    "def helpful_count(row):\n",
    "    '''\n",
    "    Gets the total number of helpful votes for a review\n",
    "    '''\n",
    "    return row.helpful[1]\n",
    "\n",
    "video_games['helpfulRate'] = video_games.apply(helpful_rate, axis=1)\n",
    "video_games['helpfulCount'] = video_games.apply(helpful_count, axis=1)\n",
    "del video_games['helpful']\n",
    "\n",
    "assert len(video_games[video_games['helpfulCount'] == 0]) == len(video_games[video_games['helpfulRate'] == -1])\n",
    "\n",
    "video_games.head()"
   ]
  },
  {
   "cell_type": "markdown",
   "metadata": {},
   "source": [
    "Here is a first view of the data. All the reviews are grouped by product described by its product ID (`asin`). Then, for each product, all the reviews are indexed by the reviewer.\n",
    "\n",
    "Each column of the dataframe is self-descriptive (notice that `overall` is the grade given from the reviewer in a scale between 1 and 5) and data types are allowing us to perform our analysis.\n",
    "\n",
    "We now load *video games* metadata. We had some trouble importing the file, so we had to make some transformations in addition to the `sed` ones, because strings were surrounded by simple quotes instead of double quotes. Here is the Python script we used:\n",
    "\n",
    "```python\n",
    "import ast\n",
    "import json\n",
    "\n",
    "with open('./data/video-games.meta.json', 'r') as metadata:\n",
    "    raw_data = metadata.read().replace('\\n', '')\n",
    "    parsed_data = ast.literal_eval(raw_data)\n",
    "\n",
    "with open('./data/video-games.meta.parsed.json', 'w') as parsed:\n",
    "    json.dump(parsed_data, parsed)\n",
    "```"
   ]
  },
  {
   "cell_type": "code",
   "execution_count": 82,
   "metadata": {},
   "outputs": [
    {
     "data": {
      "text/html": [
       "<div>\n",
       "<style>\n",
       "    .dataframe thead tr:only-child th {\n",
       "        text-align: right;\n",
       "    }\n",
       "\n",
       "    .dataframe thead th {\n",
       "        text-align: left;\n",
       "    }\n",
       "\n",
       "    .dataframe tbody tr th {\n",
       "        vertical-align: top;\n",
       "    }\n",
       "</style>\n",
       "<table border=\"1\" class=\"dataframe\">\n",
       "  <thead>\n",
       "    <tr style=\"text-align: right;\">\n",
       "      <th></th>\n",
       "      <th>brand</th>\n",
       "      <th>description</th>\n",
       "      <th>price</th>\n",
       "      <th>salesRank</th>\n",
       "      <th>title</th>\n",
       "    </tr>\n",
       "    <tr>\n",
       "      <th>asin</th>\n",
       "      <th></th>\n",
       "      <th></th>\n",
       "      <th></th>\n",
       "      <th></th>\n",
       "      <th></th>\n",
       "    </tr>\n",
       "  </thead>\n",
       "  <tbody>\n",
       "    <tr>\n",
       "      <th>0078764343</th>\n",
       "      <td></td>\n",
       "      <td>Brand new sealed!</td>\n",
       "      <td>37.98</td>\n",
       "      <td>{'Video Games': 28655}</td>\n",
       "      <td></td>\n",
       "    </tr>\n",
       "    <tr>\n",
       "      <th>043933702X</th>\n",
       "      <td></td>\n",
       "      <td>In Stock NOW.  Eligible for FREE Super Saving ...</td>\n",
       "      <td>23.50</td>\n",
       "      <td>{'Video Games': 44080}</td>\n",
       "      <td></td>\n",
       "    </tr>\n",
       "    <tr>\n",
       "      <th>0439339987</th>\n",
       "      <td></td>\n",
       "      <td>Grandma Groupers kelp seeds are missing and wi...</td>\n",
       "      <td>8.95</td>\n",
       "      <td>{'Video Games': 49836}</td>\n",
       "      <td></td>\n",
       "    </tr>\n",
       "    <tr>\n",
       "      <th>0439342260</th>\n",
       "      <td></td>\n",
       "      <td>This software is BRAND NEW. Packaging may diff...</td>\n",
       "      <td>-1.00</td>\n",
       "      <td>{'Video Games': 49156}</td>\n",
       "      <td></td>\n",
       "    </tr>\n",
       "    <tr>\n",
       "      <th>0439339960</th>\n",
       "      <td></td>\n",
       "      <td>a scholastic clubs fairs cd rom game</td>\n",
       "      <td>-1.00</td>\n",
       "      <td>{'Video Games': 52262}</td>\n",
       "      <td></td>\n",
       "    </tr>\n",
       "  </tbody>\n",
       "</table>\n",
       "</div>"
      ],
      "text/plain": [
       "           brand                                        description  price  \\\n",
       "asin                                                                         \n",
       "0078764343                                        Brand new sealed!  37.98   \n",
       "043933702X        In Stock NOW.  Eligible for FREE Super Saving ...  23.50   \n",
       "0439339987        Grandma Groupers kelp seeds are missing and wi...   8.95   \n",
       "0439342260        This software is BRAND NEW. Packaging may diff...  -1.00   \n",
       "0439339960                     a scholastic clubs fairs cd rom game  -1.00   \n",
       "\n",
       "                         salesRank title  \n",
       "asin                                      \n",
       "0078764343  {'Video Games': 28655}        \n",
       "043933702X  {'Video Games': 44080}        \n",
       "0439339987  {'Video Games': 49836}        \n",
       "0439342260  {'Video Games': 49156}        \n",
       "0439339960  {'Video Games': 52262}        "
      ]
     },
     "execution_count": 82,
     "metadata": {},
     "output_type": "execute_result"
    }
   ],
   "source": [
    "video_games_meta = pd.read_json('./data/video-games.meta.parsed.json')\n",
    "\n",
    "del video_games_meta['imUrl']\n",
    "del video_games_meta['related'] # For now we remove related (also bought, also viewed and buy after viewing) products\n",
    "del video_games_meta['categories'] # We get rid of the sub categories for now\n",
    "\n",
    "video_games_meta.price.fillna(-1, inplace=True)\n",
    "video_games_meta.title.fillna('', inplace=True)\n",
    "video_games_meta.brand.fillna('', inplace=True)\n",
    "video_games_meta.description.fillna('', inplace=True)\n",
    "\n",
    "# The following line can be understood as:\n",
    "# video_games_meta.salesRank.fillna({}, inplace=True)\n",
    "# It is done using this process because Pandas won't take into account the empty {} with fillna()\n",
    "video_games_meta.loc[video_games_meta['salesRank'].isnull(), ['salesRank']] = video_games_meta.loc[video_games_meta['salesRank'].isnull(), 'salesRank'].apply(lambda x: {})\n",
    "\n",
    "video_games_meta.set_index(['asin'], inplace=True)\n",
    "\n",
    "video_games_meta.head()"
   ]
  },
  {
   "cell_type": "markdown",
   "metadata": {},
   "source": [
    "We need to get rid of the nested objects and arrays. We will take into account only the `salesRank` for video games section."
   ]
  },
  {
   "cell_type": "code",
   "execution_count": 83,
   "metadata": {},
   "outputs": [
    {
     "data": {
      "text/html": [
       "<div>\n",
       "<style>\n",
       "    .dataframe thead tr:only-child th {\n",
       "        text-align: right;\n",
       "    }\n",
       "\n",
       "    .dataframe thead th {\n",
       "        text-align: left;\n",
       "    }\n",
       "\n",
       "    .dataframe tbody tr th {\n",
       "        vertical-align: top;\n",
       "    }\n",
       "</style>\n",
       "<table border=\"1\" class=\"dataframe\">\n",
       "  <thead>\n",
       "    <tr style=\"text-align: right;\">\n",
       "      <th></th>\n",
       "      <th>brand</th>\n",
       "      <th>description</th>\n",
       "      <th>price</th>\n",
       "      <th>title</th>\n",
       "      <th>rank</th>\n",
       "    </tr>\n",
       "    <tr>\n",
       "      <th>asin</th>\n",
       "      <th></th>\n",
       "      <th></th>\n",
       "      <th></th>\n",
       "      <th></th>\n",
       "      <th></th>\n",
       "    </tr>\n",
       "  </thead>\n",
       "  <tbody>\n",
       "    <tr>\n",
       "      <th>0078764343</th>\n",
       "      <td></td>\n",
       "      <td>Brand new sealed!</td>\n",
       "      <td>37.98</td>\n",
       "      <td></td>\n",
       "      <td>28655</td>\n",
       "    </tr>\n",
       "    <tr>\n",
       "      <th>043933702X</th>\n",
       "      <td></td>\n",
       "      <td>In Stock NOW.  Eligible for FREE Super Saving ...</td>\n",
       "      <td>23.50</td>\n",
       "      <td></td>\n",
       "      <td>44080</td>\n",
       "    </tr>\n",
       "    <tr>\n",
       "      <th>0439339987</th>\n",
       "      <td></td>\n",
       "      <td>Grandma Groupers kelp seeds are missing and wi...</td>\n",
       "      <td>8.95</td>\n",
       "      <td></td>\n",
       "      <td>49836</td>\n",
       "    </tr>\n",
       "    <tr>\n",
       "      <th>0439342260</th>\n",
       "      <td></td>\n",
       "      <td>This software is BRAND NEW. Packaging may diff...</td>\n",
       "      <td>-1.00</td>\n",
       "      <td></td>\n",
       "      <td>49156</td>\n",
       "    </tr>\n",
       "    <tr>\n",
       "      <th>0439339960</th>\n",
       "      <td></td>\n",
       "      <td>a scholastic clubs fairs cd rom game</td>\n",
       "      <td>-1.00</td>\n",
       "      <td></td>\n",
       "      <td>52262</td>\n",
       "    </tr>\n",
       "  </tbody>\n",
       "</table>\n",
       "</div>"
      ],
      "text/plain": [
       "           brand                                        description  price  \\\n",
       "asin                                                                         \n",
       "0078764343                                        Brand new sealed!  37.98   \n",
       "043933702X        In Stock NOW.  Eligible for FREE Super Saving ...  23.50   \n",
       "0439339987        Grandma Groupers kelp seeds are missing and wi...   8.95   \n",
       "0439342260        This software is BRAND NEW. Packaging may diff...  -1.00   \n",
       "0439339960                     a scholastic clubs fairs cd rom game  -1.00   \n",
       "\n",
       "           title   rank  \n",
       "asin                     \n",
       "0078764343        28655  \n",
       "043933702X        44080  \n",
       "0439339987        49836  \n",
       "0439342260        49156  \n",
       "0439339960        52262  "
      ]
     },
     "execution_count": 83,
     "metadata": {},
     "output_type": "execute_result"
    }
   ],
   "source": [
    "def sales_rank(row):\n",
    "    '''\n",
    "    Returns the video games sales rank from the sub object\n",
    "    '''\n",
    "\n",
    "    if not 'Video Games' in row.salesRank.keys():\n",
    "        return -1\n",
    "    \n",
    "    return row.salesRank['Video Games']\n",
    "    \n",
    "video_games_meta['rank'] = video_games_meta.apply(sales_rank, axis=1)\n",
    "del video_games_meta['salesRank']\n",
    "\n",
    "video_games_meta.head()"
   ]
  },
  {
   "cell_type": "markdown",
   "metadata": {},
   "source": [
    "Things are now clean in off to merge the two dataframes. We will allow to have duplicate `brand`, `description`, `price`, `title` and `rank` for each review as it will help finding correlations."
   ]
  },
  {
   "cell_type": "code",
   "execution_count": 109,
   "metadata": {},
   "outputs": [
    {
     "data": {
      "text/html": [
       "<div>\n",
       "<style>\n",
       "    .dataframe thead tr:only-child th {\n",
       "        text-align: right;\n",
       "    }\n",
       "\n",
       "    .dataframe thead th {\n",
       "        text-align: left;\n",
       "    }\n",
       "\n",
       "    .dataframe tbody tr th {\n",
       "        vertical-align: top;\n",
       "    }\n",
       "</style>\n",
       "<table border=\"1\" class=\"dataframe\">\n",
       "  <thead>\n",
       "    <tr style=\"text-align: right;\">\n",
       "      <th></th>\n",
       "      <th></th>\n",
       "      <th>overall</th>\n",
       "      <th>reviewText</th>\n",
       "      <th>reviewerName</th>\n",
       "      <th>summary</th>\n",
       "      <th>date</th>\n",
       "      <th>helpfulRate</th>\n",
       "      <th>helpfulCount</th>\n",
       "      <th>rank</th>\n",
       "      <th>description</th>\n",
       "      <th>price</th>\n",
       "      <th>title</th>\n",
       "      <th>brand</th>\n",
       "    </tr>\n",
       "    <tr>\n",
       "      <th>asin</th>\n",
       "      <th>reviewerID</th>\n",
       "      <th></th>\n",
       "      <th></th>\n",
       "      <th></th>\n",
       "      <th></th>\n",
       "      <th></th>\n",
       "      <th></th>\n",
       "      <th></th>\n",
       "      <th></th>\n",
       "      <th></th>\n",
       "      <th></th>\n",
       "      <th></th>\n",
       "      <th></th>\n",
       "    </tr>\n",
       "  </thead>\n",
       "  <tbody>\n",
       "    <tr>\n",
       "      <th rowspan=\"5\" valign=\"top\">0700099867</th>\n",
       "      <th>A2HD75EMZR8QLN</th>\n",
       "      <td>1</td>\n",
       "      <td>Installing the game was a struggle (because of...</td>\n",
       "      <td>123</td>\n",
       "      <td>Pay to unlock content? I don't think so.</td>\n",
       "      <td>2012-07-09</td>\n",
       "      <td>0.666667</td>\n",
       "      <td>12</td>\n",
       "      <td>6629</td>\n",
       "      <td>Dirt 3 is a popular rally racing game for Play...</td>\n",
       "      <td>246.63</td>\n",
       "      <td></td>\n",
       "      <td></td>\n",
       "    </tr>\n",
       "    <tr>\n",
       "      <th>A3UR8NLLY1ZHCX</th>\n",
       "      <td>4</td>\n",
       "      <td>If you like rally cars get this game you will ...</td>\n",
       "      <td>Alejandro Henao \"Electronic Junky\"</td>\n",
       "      <td>Good rally game</td>\n",
       "      <td>2013-06-30</td>\n",
       "      <td>-1.000000</td>\n",
       "      <td>0</td>\n",
       "      <td>6629</td>\n",
       "      <td>Dirt 3 is a popular rally racing game for Play...</td>\n",
       "      <td>246.63</td>\n",
       "      <td></td>\n",
       "      <td></td>\n",
       "    </tr>\n",
       "    <tr>\n",
       "      <th>A1INA0F5CWW3J4</th>\n",
       "      <td>1</td>\n",
       "      <td>1st shipment received a book instead of the ga...</td>\n",
       "      <td>Amazon Shopper \"Mr.Repsol\"</td>\n",
       "      <td>Wrong key</td>\n",
       "      <td>2014-06-28</td>\n",
       "      <td>-1.000000</td>\n",
       "      <td>0</td>\n",
       "      <td>6629</td>\n",
       "      <td>Dirt 3 is a popular rally racing game for Play...</td>\n",
       "      <td>246.63</td>\n",
       "      <td></td>\n",
       "      <td></td>\n",
       "    </tr>\n",
       "    <tr>\n",
       "      <th>A1DLMTOTHQ4AST</th>\n",
       "      <td>3</td>\n",
       "      <td>I got this version instead of the PS3 version,...</td>\n",
       "      <td>ampgreen</td>\n",
       "      <td>awesome game, if it did not crash frequently !!</td>\n",
       "      <td>2011-09-14</td>\n",
       "      <td>0.700000</td>\n",
       "      <td>10</td>\n",
       "      <td>6629</td>\n",
       "      <td>Dirt 3 is a popular rally racing game for Play...</td>\n",
       "      <td>246.63</td>\n",
       "      <td></td>\n",
       "      <td></td>\n",
       "    </tr>\n",
       "    <tr>\n",
       "      <th>A361M14PU2GUEG</th>\n",
       "      <td>4</td>\n",
       "      <td>I had Dirt 2 on Xbox 360 and it was an okay ga...</td>\n",
       "      <td>Angry Ryan \"Ryan A. Forrest\"</td>\n",
       "      <td>DIRT 3</td>\n",
       "      <td>2011-06-14</td>\n",
       "      <td>1.000000</td>\n",
       "      <td>2</td>\n",
       "      <td>6629</td>\n",
       "      <td>Dirt 3 is a popular rally racing game for Play...</td>\n",
       "      <td>246.63</td>\n",
       "      <td></td>\n",
       "      <td></td>\n",
       "    </tr>\n",
       "  </tbody>\n",
       "</table>\n",
       "</div>"
      ],
      "text/plain": [
       "                           overall  \\\n",
       "asin       reviewerID                \n",
       "0700099867 A2HD75EMZR8QLN        1   \n",
       "           A3UR8NLLY1ZHCX        4   \n",
       "           A1INA0F5CWW3J4        1   \n",
       "           A1DLMTOTHQ4AST        3   \n",
       "           A361M14PU2GUEG        4   \n",
       "\n",
       "                                                                  reviewText  \\\n",
       "asin       reviewerID                                                          \n",
       "0700099867 A2HD75EMZR8QLN  Installing the game was a struggle (because of...   \n",
       "           A3UR8NLLY1ZHCX  If you like rally cars get this game you will ...   \n",
       "           A1INA0F5CWW3J4  1st shipment received a book instead of the ga...   \n",
       "           A1DLMTOTHQ4AST  I got this version instead of the PS3 version,...   \n",
       "           A361M14PU2GUEG  I had Dirt 2 on Xbox 360 and it was an okay ga...   \n",
       "\n",
       "                                                 reviewerName  \\\n",
       "asin       reviewerID                                           \n",
       "0700099867 A2HD75EMZR8QLN                                 123   \n",
       "           A3UR8NLLY1ZHCX  Alejandro Henao \"Electronic Junky\"   \n",
       "           A1INA0F5CWW3J4          Amazon Shopper \"Mr.Repsol\"   \n",
       "           A1DLMTOTHQ4AST                            ampgreen   \n",
       "           A361M14PU2GUEG        Angry Ryan \"Ryan A. Forrest\"   \n",
       "\n",
       "                                                                   summary  \\\n",
       "asin       reviewerID                                                        \n",
       "0700099867 A2HD75EMZR8QLN         Pay to unlock content? I don't think so.   \n",
       "           A3UR8NLLY1ZHCX                                  Good rally game   \n",
       "           A1INA0F5CWW3J4                                        Wrong key   \n",
       "           A1DLMTOTHQ4AST  awesome game, if it did not crash frequently !!   \n",
       "           A361M14PU2GUEG                                           DIRT 3   \n",
       "\n",
       "                                date  helpfulRate  helpfulCount  rank  \\\n",
       "asin       reviewerID                                                   \n",
       "0700099867 A2HD75EMZR8QLN 2012-07-09     0.666667            12  6629   \n",
       "           A3UR8NLLY1ZHCX 2013-06-30    -1.000000             0  6629   \n",
       "           A1INA0F5CWW3J4 2014-06-28    -1.000000             0  6629   \n",
       "           A1DLMTOTHQ4AST 2011-09-14     0.700000            10  6629   \n",
       "           A361M14PU2GUEG 2011-06-14     1.000000             2  6629   \n",
       "\n",
       "                                                                 description  \\\n",
       "asin       reviewerID                                                          \n",
       "0700099867 A2HD75EMZR8QLN  Dirt 3 is a popular rally racing game for Play...   \n",
       "           A3UR8NLLY1ZHCX  Dirt 3 is a popular rally racing game for Play...   \n",
       "           A1INA0F5CWW3J4  Dirt 3 is a popular rally racing game for Play...   \n",
       "           A1DLMTOTHQ4AST  Dirt 3 is a popular rally racing game for Play...   \n",
       "           A361M14PU2GUEG  Dirt 3 is a popular rally racing game for Play...   \n",
       "\n",
       "                            price title brand  \n",
       "asin       reviewerID                          \n",
       "0700099867 A2HD75EMZR8QLN  246.63              \n",
       "           A3UR8NLLY1ZHCX  246.63              \n",
       "           A1INA0F5CWW3J4  246.63              \n",
       "           A1DLMTOTHQ4AST  246.63              \n",
       "           A361M14PU2GUEG  246.63              "
      ]
     },
     "execution_count": 109,
     "metadata": {},
     "output_type": "execute_result"
    }
   ],
   "source": [
    "# We concatenate our dataframes based on the product ID index\n",
    "video_games_ids = video_games.index.get_level_values('asin')\n",
    "\n",
    "video_games['rank'] = video_games_meta.loc[video_games_ids]['rank'].values\n",
    "video_games['description'] = video_games_meta.loc[video_games_ids]['description'].values\n",
    "video_games['price'] = video_games_meta.loc[video_games_ids]['price'].values\n",
    "video_games['title'] = video_games_meta.loc[video_games_ids]['title'].values\n",
    "video_games['brand'] = video_games_meta.loc[video_games_ids]['brand'].values\n",
    "\n",
    "video_games.head()"
   ]
  },
  {
   "cell_type": "markdown",
   "metadata": {},
   "source": [
    "## Descriptive analysis\n",
    "\n",
    "Our descriptive analysis will focus on several metrics taken from the above dataframe. We will first focus on the distribution of reviews grade (`overall`) and then analyse \"helpful evaluations\" of reviews. Finally, we will start searching for patterns in data distribution to prepare work for the next milestone.\n",
    "\n",
    "### Distribution of possible review grades\n",
    "\n",
    "We start by using a box plot to visualize how grades are distributed."
   ]
  },
  {
   "cell_type": "code",
   "execution_count": 110,
   "metadata": {},
   "outputs": [
    {
     "data": {
      "text/plain": [
       "<matplotlib.axes._subplots.AxesSubplot at 0x7efe0293e978>"
      ]
     },
     "execution_count": 110,
     "metadata": {},
     "output_type": "execute_result"
    },
    {
     "data": {
      "image/png": "[encoded data removed]",
      "text/plain": [
       "<matplotlib.figure.Figure at 0x7efe0294f470>"
      ]
     },
     "metadata": {},
     "output_type": "display_data"
    }
   ],
   "source": [
    "video_games.boxplot(column=['overall'], figsize=(8, 8), grid=False)"
   ]
  },
  {
   "cell_type": "markdown",
   "metadata": {},
   "source": [
    "We can see that there is definitely more high grades (4, 5) than low ones. Let's describe data to get some insights."
   ]
  },
  {
   "cell_type": "code",
   "execution_count": 111,
   "metadata": {},
   "outputs": [
    {
     "data": {
      "text/plain": [
       "count    231780.000000\n",
       "mean          4.086397\n",
       "std           1.202330\n",
       "min           1.000000\n",
       "25%           4.000000\n",
       "50%           5.000000\n",
       "75%           5.000000\n",
       "max           5.000000\n",
       "Name: overall, dtype: float64"
      ]
     },
     "execution_count": 111,
     "metadata": {},
     "output_type": "execute_result"
    }
   ],
   "source": [
    "video_games.overall.describe()"
   ]
  },
  {
   "cell_type": "markdown",
   "metadata": {},
   "source": [
    "We have 231780 reviews, with a mean of 4.08 and a standard deviation of 1.20.\n",
    "\n",
    "When focusing at **robust statistics** only, we can see that the median is 5, and more than 75% of the reviews have awarded 4 or 5 grade to the product.\n",
    "\n",
    "Let's see data distribution using a bar plot:"
   ]
  },
  {
   "cell_type": "code",
   "execution_count": 112,
   "metadata": {},
   "outputs": [
    {
     "data": {
      "text/plain": [
       "<matplotlib.axes._subplots.AxesSubplot at 0x7efe0294fc50>"
      ]
     },
     "execution_count": 112,
     "metadata": {},
     "output_type": "execute_result"
    },
    {
     "data": {
      "image/png": "[encoded data removed]",
      "text/plain": [
       "<matplotlib.figure.Figure at 0x7efdca98b6d8>"
      ]
     },
     "metadata": {},
     "output_type": "display_data"
    }
   ],
   "source": [
    "plt.xlabel('Score')\n",
    "plt.ylabel('Number of review')\n",
    "video_games.overall.value_counts(ascending=True).sort_index().plot(kind='bar', rot=0)"
   ]
  },
  {
   "cell_type": "markdown",
   "metadata": {},
   "source": [
    "This confirms what was found before. We can do some assumptions about this distribution:\n",
    "\n",
    "- The people may be more likely to thank the product quality by posting a review than to say their displeasure\n",
    "- Amazon sell more good quality product (here video game) than bad one\n",
    "- The 5 stars review can be due to the presence of fakes/paid review\n",
    "\n",
    "We also can see that there are more reviews with `1` grade than `2`. This could be understood as people underrating products when they are not fully satisfied. It may also be used by customers to counterbalance a too high grade on a product, based on their opinions.\n",
    "\n",
    "We now count the number of reviews per product to see if products are equally reviewed:"
   ]
  },
  {
   "cell_type": "code",
   "execution_count": 113,
   "metadata": {},
   "outputs": [
    {
     "data": {
      "text/plain": [
       "<matplotlib.axes._subplots.AxesSubplot at 0x7efdcb44cd68>"
      ]
     },
     "execution_count": 113,
     "metadata": {},
     "output_type": "execute_result"
    },
    {
     "data": {
      "image/png": "[encoded data removed]",
      "text/plain": [
       "<matplotlib.figure.Figure at 0x7efdcbb69e10>"
      ]
     },
     "metadata": {},
     "output_type": "display_data"
    }
   ],
   "source": [
    "reviews_count_per_product = video_games.groupby(['asin']).overall.count().sort_values(ascending=False)\n",
    "\n",
    "reviews_count_per_product.plot()"
   ]
  },
  {
   "cell_type": "markdown",
   "metadata": {},
   "source": [
    "We seem to have a power law. However when using a logarithmic plot, we can see it is not:"
   ]
  },
  {
   "cell_type": "code",
   "execution_count": 114,
   "metadata": {},
   "outputs": [
    {
     "data": {
      "text/plain": [
       "<matplotlib.axes._subplots.AxesSubplot at 0x7efdcc672588>"
      ]
     },
     "execution_count": 114,
     "metadata": {},
     "output_type": "execute_result"
    },
    {
     "data": {
      "image/png": "[encoded data removed]",
      "text/plain": [
       "<matplotlib.figure.Figure at 0x7efdcc744cc0>"
      ]
     },
     "metadata": {},
     "output_type": "display_data"
    }
   ],
   "source": [
    "warnings.simplefilter('ignore') # Ignoring warning about non positive xlimit\n",
    "\n",
    "reviews_count_per_product.plot(logy=True, logx=True, rot=90, figsize=(5, 5))"
   ]
  },
  {
   "cell_type": "markdown",
   "metadata": {},
   "source": [
    "Let's focus on the most reviewed product. The product is the \"PlayStation 4 500GB Console\"."
   ]
  },
  {
   "cell_type": "code",
   "execution_count": 115,
   "metadata": {},
   "outputs": [
    {
     "data": {
      "text/html": [
       "<div>\n",
       "<style>\n",
       "    .dataframe thead tr:only-child th {\n",
       "        text-align: right;\n",
       "    }\n",
       "\n",
       "    .dataframe thead th {\n",
       "        text-align: left;\n",
       "    }\n",
       "\n",
       "    .dataframe tbody tr th {\n",
       "        vertical-align: top;\n",
       "    }\n",
       "</style>\n",
       "<table border=\"1\" class=\"dataframe\">\n",
       "  <thead>\n",
       "    <tr style=\"text-align: right;\">\n",
       "      <th></th>\n",
       "      <th>overall</th>\n",
       "      <th>reviewText</th>\n",
       "      <th>reviewerName</th>\n",
       "      <th>summary</th>\n",
       "      <th>date</th>\n",
       "      <th>helpfulRate</th>\n",
       "      <th>helpfulCount</th>\n",
       "      <th>rank</th>\n",
       "      <th>description</th>\n",
       "      <th>price</th>\n",
       "      <th>title</th>\n",
       "      <th>brand</th>\n",
       "    </tr>\n",
       "    <tr>\n",
       "      <th>reviewerID</th>\n",
       "      <th></th>\n",
       "      <th></th>\n",
       "      <th></th>\n",
       "      <th></th>\n",
       "      <th></th>\n",
       "      <th></th>\n",
       "      <th></th>\n",
       "      <th></th>\n",
       "      <th></th>\n",
       "      <th></th>\n",
       "      <th></th>\n",
       "      <th></th>\n",
       "    </tr>\n",
       "  </thead>\n",
       "  <tbody>\n",
       "    <tr>\n",
       "      <th>A386ZNRX0TFFHX</th>\n",
       "      <td>4</td>\n",
       "      <td>I gave it 4 out of 5 stars because of lack of ...</td>\n",
       "      <td>NaN</td>\n",
       "      <td>Great System, But...</td>\n",
       "      <td>2013-12-18</td>\n",
       "      <td>0.727273</td>\n",
       "      <td>11</td>\n",
       "      <td>13</td>\n",
       "      <td></td>\n",
       "      <td>28.12</td>\n",
       "      <td></td>\n",
       "      <td></td>\n",
       "    </tr>\n",
       "    <tr>\n",
       "      <th>A2QYAFX7OCNRMO</th>\n",
       "      <td>3</td>\n",
       "      <td>PlayStation 4 is kind of hard to review right ...</td>\n",
       "      <td>NaN</td>\n",
       "      <td>Has potential...</td>\n",
       "      <td>2014-03-05</td>\n",
       "      <td>0.727273</td>\n",
       "      <td>11</td>\n",
       "      <td>13</td>\n",
       "      <td></td>\n",
       "      <td>28.12</td>\n",
       "      <td></td>\n",
       "      <td></td>\n",
       "    </tr>\n",
       "    <tr>\n",
       "      <th>A3OQ3DU03L2GGO</th>\n",
       "      <td>5</td>\n",
       "      <td>Simply amazing. A huge step up from the PS3 an...</td>\n",
       "      <td>NaN</td>\n",
       "      <td>Stunning.</td>\n",
       "      <td>2013-12-01</td>\n",
       "      <td>0.727273</td>\n",
       "      <td>11</td>\n",
       "      <td>13</td>\n",
       "      <td></td>\n",
       "      <td>28.12</td>\n",
       "      <td></td>\n",
       "      <td></td>\n",
       "    </tr>\n",
       "    <tr>\n",
       "      <th>A3H99DFEG68SR</th>\n",
       "      <td>3</td>\n",
       "      <td>So I've had the PS4 since launch and I have to...</td>\n",
       "      <td>1m2</td>\n",
       "      <td>I guess I expected more</td>\n",
       "      <td>2014-03-21</td>\n",
       "      <td>-1.000000</td>\n",
       "      <td>0</td>\n",
       "      <td>13</td>\n",
       "      <td></td>\n",
       "      <td>28.12</td>\n",
       "      <td></td>\n",
       "      <td></td>\n",
       "    </tr>\n",
       "    <tr>\n",
       "      <th>A15LG7HS4WKKKS</th>\n",
       "      <td>5</td>\n",
       "      <td>Huge overall improvement over the PS3. The use...</td>\n",
       "      <td>A. A. BADER \"Q8  AL BADER\"</td>\n",
       "      <td>Best purchase all year.,</td>\n",
       "      <td>2014-03-06</td>\n",
       "      <td>0.700000</td>\n",
       "      <td>10</td>\n",
       "      <td>13</td>\n",
       "      <td></td>\n",
       "      <td>28.12</td>\n",
       "      <td></td>\n",
       "      <td></td>\n",
       "    </tr>\n",
       "  </tbody>\n",
       "</table>\n",
       "</div>"
      ],
      "text/plain": [
       "                overall                                         reviewText  \\\n",
       "reviewerID                                                                   \n",
       "A386ZNRX0TFFHX        4  I gave it 4 out of 5 stars because of lack of ...   \n",
       "A2QYAFX7OCNRMO        3  PlayStation 4 is kind of hard to review right ...   \n",
       "A3OQ3DU03L2GGO        5  Simply amazing. A huge step up from the PS3 an...   \n",
       "A3H99DFEG68SR         3  So I've had the PS4 since launch and I have to...   \n",
       "A15LG7HS4WKKKS        5  Huge overall improvement over the PS3. The use...   \n",
       "\n",
       "                              reviewerName                   summary  \\\n",
       "reviewerID                                                             \n",
       "A386ZNRX0TFFHX                         NaN      Great System, But...   \n",
       "A2QYAFX7OCNRMO                         NaN          Has potential...   \n",
       "A3OQ3DU03L2GGO                         NaN                 Stunning.   \n",
       "A3H99DFEG68SR                          1m2   I guess I expected more   \n",
       "A15LG7HS4WKKKS  A. A. BADER \"Q8  AL BADER\"  Best purchase all year.,   \n",
       "\n",
       "                     date  helpfulRate  helpfulCount  rank description  price  \\\n",
       "reviewerID                                                                      \n",
       "A386ZNRX0TFFHX 2013-12-18     0.727273            11    13              28.12   \n",
       "A2QYAFX7OCNRMO 2014-03-05     0.727273            11    13              28.12   \n",
       "A3OQ3DU03L2GGO 2013-12-01     0.727273            11    13              28.12   \n",
       "A3H99DFEG68SR  2014-03-21    -1.000000             0    13              28.12   \n",
       "A15LG7HS4WKKKS 2014-03-06     0.700000            10    13              28.12   \n",
       "\n",
       "               title brand  \n",
       "reviewerID                  \n",
       "A386ZNRX0TFFHX              \n",
       "A2QYAFX7OCNRMO              \n",
       "A3OQ3DU03L2GGO              \n",
       "A3H99DFEG68SR               \n",
       "A15LG7HS4WKKKS              "
      ]
     },
     "execution_count": 115,
     "metadata": {},
     "output_type": "execute_result"
    }
   ],
   "source": [
    "most_reviewed = reviews_count_per_product.index[0]\n",
    "most_reviewed_reviews = video_games.loc[most_reviewed]\n",
    "\n",
    "most_reviewed_reviews.head()"
   ]
  },
  {
   "cell_type": "markdown",
   "metadata": {},
   "source": [
    "We try to see if there are any trends in the reviews over time:"
   ]
  },
  {
   "cell_type": "code",
   "execution_count": 116,
   "metadata": {},
   "outputs": [
    {
     "data": {
      "image/png": "[encoded data removed]",
      "text/plain": [
       "<matplotlib.figure.Figure at 0x7efe7f09a710>"
      ]
     },
     "metadata": {},
     "output_type": "display_data"
    }
   ],
   "source": [
    "most_reviewed_reviews.sort_values(by=['date'], inplace=True)\n",
    "most_reviewed_reviews.overall.plot(kind='bar', figsize=(17, 8), rot=90);"
   ]
  },
  {
   "cell_type": "markdown",
   "metadata": {},
   "source": [
    "It is impossible to visually see any kind of trend. However, it may be possible using machine learning to determine if some grades can be deducted from the previous ones."
   ]
  },
  {
   "cell_type": "markdown",
   "metadata": {},
   "source": [
    "### Distribution of helpful rates\n",
    "\n",
    "We do the same analysis for the helpful rate (after removing the reviews without evaluation):"
   ]
  },
  {
   "cell_type": "code",
   "execution_count": 117,
   "metadata": {},
   "outputs": [
    {
     "data": {
      "image/png": "[encoded data removed]",
      "text/plain": [
       "<matplotlib.figure.Figure at 0x7efdd5a642e8>"
      ]
     },
     "metadata": {},
     "output_type": "display_data"
    }
   ],
   "source": [
    "video_games[video_games.helpfulRate >= 0].boxplot(column=['helpfulRate'], figsize=(8, 8), grid=False);"
   ]
  },
  {
   "cell_type": "markdown",
   "metadata": {},
   "source": [
    "Here, we can see rates are more widely distributed, let's do the same description as before."
   ]
  },
  {
   "cell_type": "code",
   "execution_count": 118,
   "metadata": {},
   "outputs": [
    {
     "data": {
      "text/plain": [
       "count    139855.000000\n",
       "mean          0.622347\n",
       "std           0.369065\n",
       "min           0.000000\n",
       "25%           0.333333\n",
       "50%           0.695652\n",
       "75%           1.000000\n",
       "max           1.000000\n",
       "Name: helpfulRate, dtype: float64"
      ]
     },
     "execution_count": 118,
     "metadata": {},
     "output_type": "execute_result"
    }
   ],
   "source": [
    "video_games[video_games.helpfulRate >= 0].helpfulRate.describe()"
   ]
  },
  {
   "cell_type": "markdown",
   "metadata": {},
   "source": [
    "Distribution seems more balanced, since first quartile is 0.33, median is 0.69 and last quartile is 0.75. We may however do the assumption that helpful reviews are more likely to be evaluated as even more helpful as Amazon will display those reviews first.\n",
    "\n",
    "We now look at the distribution of helpful rates, considering all the sold products."
   ]
  },
  {
   "cell_type": "code",
   "execution_count": 119,
   "metadata": {},
   "outputs": [
    {
     "name": "stdout",
     "output_type": "stream",
     "text": [
      "60.34% of reviews are evaluated\n"
     ]
    },
    {
     "data": {
      "text/plain": [
       "<matplotlib.axes._subplots.AxesSubplot at 0x7efe0298c7f0>"
      ]
     },
     "execution_count": 119,
     "metadata": {},
     "output_type": "execute_result"
    },
    {
     "data": {
      "image/png": "[encoded data removed]",
      "text/plain": [
       "<matplotlib.figure.Figure at 0x7efdd5e6a550>"
      ]
     },
     "metadata": {},
     "output_type": "display_data"
    }
   ],
   "source": [
    "# We get all the \"helpfulness rates\" (removing the unrated comments)\n",
    "helpfulRates = video_games[video_games.helpfulRate >= 0].helpfulRate\n",
    "\n",
    "print(str(round(len(helpfulRates) * 100 / len(video_games.helpfulRate), 2)) + '% of reviews are evaluated')\n",
    "\n",
    "plt.xlabel('Helpful rate')\n",
    "plt.ylabel('Count')\n",
    "helpfulRates.value_counts(ascending=True, bins=10).sort_index().plot(kind='bar', rot=0, figsize=(15, 5))"
   ]
  },
  {
   "cell_type": "markdown",
   "metadata": {},
   "source": [
    "We can see two outsiders for reviews with less than 10% positive reviews and more than 90% positive reviews. This could be explained by the assumption made previously: the more a review is well rated, the more it is likely to get good rates. In the contrary, reviews with bad rates may be less visible on Amazon and may keep their low rates.\n",
    "\n",
    "We will now sort the reviewers based on their helpful rate mean, to see if there are some top reviewers or very bad ones."
   ]
  },
  {
   "cell_type": "code",
   "execution_count": 120,
   "metadata": {},
   "outputs": [
    {
     "data": {
      "text/plain": [
       "<matplotlib.axes._subplots.AxesSubplot at 0x7efe04027b00>"
      ]
     },
     "execution_count": 120,
     "metadata": {},
     "output_type": "execute_result"
    },
    {
     "data": {
      "image/png": "[encoded data removed]",
      "text/plain": [
       "<matplotlib.figure.Figure at 0x7efdd60873c8>"
      ]
     },
     "metadata": {},
     "output_type": "display_data"
    }
   ],
   "source": [
    "count_evaluations = video_games.groupby('reviewerID').count().sort_values('helpfulCount', ascending=False).helpfulRate\n",
    "\n",
    "plt.ylabel('Reviews count')\n",
    "count_evaluations.plot(rot=90, figsize=(15, 5))"
   ]
  },
  {
   "cell_type": "markdown",
   "metadata": {},
   "source": [
    "We try to zoom to get only evaluators with more than 30 evaluations. We can see that evaluations are done by a restricted number of evaluators providing the majority of evaluations."
   ]
  },
  {
   "cell_type": "code",
   "execution_count": 121,
   "metadata": {},
   "outputs": [
    {
     "name": "stdout",
     "output_type": "stream",
     "text": [
      "1st best evaluator: 773\n",
      "2nd best evaluator: 635\n",
      "3rd best evaluator: 450\n",
      "4th best evaluator: 404\n",
      "5th best evaluator: 320\n"
     ]
    },
    {
     "data": {
      "image/png": "[encoded data removed]",
      "text/plain": [
       "<matplotlib.figure.Figure at 0x7efe040db2b0>"
      ]
     },
     "metadata": {},
     "output_type": "display_data"
    }
   ],
   "source": [
    "top_count_evaluations = count_evaluations[count_evaluations > 30]\n",
    "plt.ylabel('Reviews count')\n",
    "top_count_evaluations.plot(rot=90, figsize=(15, 5))\n",
    "\n",
    "print('1st best evaluator: ' + str(top_count_evaluations[0]))\n",
    "print('2nd best evaluator: ' + str(top_count_evaluations[1]))\n",
    "print('3rd best evaluator: ' + str(top_count_evaluations[3]))\n",
    "print('4th best evaluator: ' + str(top_count_evaluations[4]))\n",
    "print('5th best evaluator: ' + str(top_count_evaluations[5]))"
   ]
  },
  {
   "cell_type": "markdown",
   "metadata": {},
   "source": [
    "We seem to have a power law here. We try to confirm this using a logarithmic plot:"
   ]
  },
  {
   "cell_type": "code",
   "execution_count": 122,
   "metadata": {},
   "outputs": [
    {
     "data": {
      "text/plain": [
       "<matplotlib.axes._subplots.AxesSubplot at 0x7efe044baeb8>"
      ]
     },
     "execution_count": 122,
     "metadata": {},
     "output_type": "execute_result"
    },
    {
     "data": {
      "image/png": "[encoded data removed]",
      "text/plain": [
       "<matplotlib.figure.Figure at 0x7efe041b56d8>"
      ]
     },
     "metadata": {},
     "output_type": "display_data"
    }
   ],
   "source": [
    "warnings.simplefilter('ignore') # Ignoring warning about non positive xlimit\n",
    "\n",
    "count_evaluations.plot(logy=True, logx=True, rot=90, figsize=(10, 10))"
   ]
  },
  {
   "cell_type": "markdown",
   "metadata": {},
   "source": [
    "We indeed have a power law.\n",
    "\n",
    "### Analysis of the more productive reviewer\n",
    "\n",
    "Focusing on the best evaluator, let's see if he provides well rated evaluations:"
   ]
  },
  {
   "cell_type": "code",
   "execution_count": 123,
   "metadata": {},
   "outputs": [
    {
     "name": "stdout",
     "output_type": "stream",
     "text": [
      "Number of reviews: 21763\n"
     ]
    },
    {
     "data": {
      "text/plain": [
       "overall            5.000000\n",
       "helpfulRate        0.888889\n",
       "helpfulCount       9.000000\n",
       "rank            8736.000000\n",
       "price             29.990000\n",
       "dtype: float64"
      ]
     },
     "execution_count": 123,
     "metadata": {},
     "output_type": "execute_result"
    }
   ],
   "source": [
    "best_reviewer_id = top_count_evaluations.index[0]\n",
    "\n",
    "\n",
    "print('Number of reviews: ' + str(video_games.groupby('reviewerID').get_group(best_reviewer_id).helpfulCount.sum()))\n",
    "video_games.groupby('reviewerID').get_group(best_reviewer_id).median()"
   ]
  },
  {
   "cell_type": "markdown",
   "metadata": {},
   "source": [
    "Comparing it with the other reviewers:"
   ]
  },
  {
   "cell_type": "code",
   "execution_count": 124,
   "metadata": {},
   "outputs": [
    {
     "data": {
      "text/plain": [
       "5.0"
      ]
     },
     "execution_count": 124,
     "metadata": {},
     "output_type": "execute_result"
    }
   ],
   "source": [
    "video_games.overall.median()"
   ]
  },
  {
   "cell_type": "code",
   "execution_count": 125,
   "metadata": {},
   "outputs": [
    {
     "data": {
      "text/plain": [
       "0.6956521739130435"
      ]
     },
     "execution_count": 125,
     "metadata": {},
     "output_type": "execute_result"
    }
   ],
   "source": [
    "video_games[video_games.helpfulRate >= 0].helpfulRate.median()"
   ]
  },
  {
   "cell_type": "markdown",
   "metadata": {},
   "source": [
    "The best evaluator seems to be a normal person, his `helpfulRate` is close to the median. He also gave more than 50% of 5 star grades. We don't get a lot of information here."
   ]
  },
  {
   "cell_type": "markdown",
   "metadata": {},
   "source": [
    "## Correlations\n",
    "\n",
    "We add columns `reviewLength`, `summaryLength` and `reviewerNameLength` to the dataframe to take into account more metrics."
   ]
  },
  {
   "cell_type": "code",
   "execution_count": 133,
   "metadata": {},
   "outputs": [
    {
     "data": {
      "text/html": [
       "<div>\n",
       "<style>\n",
       "    .dataframe thead tr:only-child th {\n",
       "        text-align: right;\n",
       "    }\n",
       "\n",
       "    .dataframe thead th {\n",
       "        text-align: left;\n",
       "    }\n",
       "\n",
       "    .dataframe tbody tr th {\n",
       "        vertical-align: top;\n",
       "    }\n",
       "</style>\n",
       "<table border=\"1\" class=\"dataframe\">\n",
       "  <thead>\n",
       "    <tr style=\"text-align: right;\">\n",
       "      <th></th>\n",
       "      <th></th>\n",
       "      <th>overall</th>\n",
       "      <th>reviewText</th>\n",
       "      <th>reviewerName</th>\n",
       "      <th>summary</th>\n",
       "      <th>date</th>\n",
       "      <th>helpfulRate</th>\n",
       "      <th>helpfulCount</th>\n",
       "      <th>rank</th>\n",
       "      <th>description</th>\n",
       "      <th>price</th>\n",
       "      <th>title</th>\n",
       "      <th>brand</th>\n",
       "      <th>reviewLength</th>\n",
       "      <th>summaryLength</th>\n",
       "      <th>reviewerNameLength</th>\n",
       "    </tr>\n",
       "    <tr>\n",
       "      <th>asin</th>\n",
       "      <th>reviewerID</th>\n",
       "      <th></th>\n",
       "      <th></th>\n",
       "      <th></th>\n",
       "      <th></th>\n",
       "      <th></th>\n",
       "      <th></th>\n",
       "      <th></th>\n",
       "      <th></th>\n",
       "      <th></th>\n",
       "      <th></th>\n",
       "      <th></th>\n",
       "      <th></th>\n",
       "      <th></th>\n",
       "      <th></th>\n",
       "      <th></th>\n",
       "    </tr>\n",
       "  </thead>\n",
       "  <tbody>\n",
       "    <tr>\n",
       "      <th rowspan=\"5\" valign=\"top\">0700099867</th>\n",
       "      <th>A2HD75EMZR8QLN</th>\n",
       "      <td>1</td>\n",
       "      <td>Installing the game was a struggle (because of...</td>\n",
       "      <td>123</td>\n",
       "      <td>Pay to unlock content? I don't think so.</td>\n",
       "      <td>2012-07-09</td>\n",
       "      <td>0.666667</td>\n",
       "      <td>12</td>\n",
       "      <td>6629</td>\n",
       "      <td>Dirt 3 is a popular rally racing game for Play...</td>\n",
       "      <td>246.63</td>\n",
       "      <td></td>\n",
       "      <td></td>\n",
       "      <td>779</td>\n",
       "      <td>40</td>\n",
       "      <td>3.0</td>\n",
       "    </tr>\n",
       "    <tr>\n",
       "      <th>A3UR8NLLY1ZHCX</th>\n",
       "      <td>4</td>\n",
       "      <td>If you like rally cars get this game you will ...</td>\n",
       "      <td>Alejandro Henao \"Electronic Junky\"</td>\n",
       "      <td>Good rally game</td>\n",
       "      <td>2013-06-30</td>\n",
       "      <td>-1.000000</td>\n",
       "      <td>0</td>\n",
       "      <td>6629</td>\n",
       "      <td>Dirt 3 is a popular rally racing game for Play...</td>\n",
       "      <td>246.63</td>\n",
       "      <td></td>\n",
       "      <td></td>\n",
       "      <td>304</td>\n",
       "      <td>15</td>\n",
       "      <td>34.0</td>\n",
       "    </tr>\n",
       "    <tr>\n",
       "      <th>A1INA0F5CWW3J4</th>\n",
       "      <td>1</td>\n",
       "      <td>1st shipment received a book instead of the ga...</td>\n",
       "      <td>Amazon Shopper \"Mr.Repsol\"</td>\n",
       "      <td>Wrong key</td>\n",
       "      <td>2014-06-28</td>\n",
       "      <td>-1.000000</td>\n",
       "      <td>0</td>\n",
       "      <td>6629</td>\n",
       "      <td>Dirt 3 is a popular rally racing game for Play...</td>\n",
       "      <td>246.63</td>\n",
       "      <td></td>\n",
       "      <td></td>\n",
       "      <td>282</td>\n",
       "      <td>9</td>\n",
       "      <td>26.0</td>\n",
       "    </tr>\n",
       "    <tr>\n",
       "      <th>A1DLMTOTHQ4AST</th>\n",
       "      <td>3</td>\n",
       "      <td>I got this version instead of the PS3 version,...</td>\n",
       "      <td>ampgreen</td>\n",
       "      <td>awesome game, if it did not crash frequently !!</td>\n",
       "      <td>2011-09-14</td>\n",
       "      <td>0.700000</td>\n",
       "      <td>10</td>\n",
       "      <td>6629</td>\n",
       "      <td>Dirt 3 is a popular rally racing game for Play...</td>\n",
       "      <td>246.63</td>\n",
       "      <td></td>\n",
       "      <td></td>\n",
       "      <td>3489</td>\n",
       "      <td>47</td>\n",
       "      <td>8.0</td>\n",
       "    </tr>\n",
       "    <tr>\n",
       "      <th>A361M14PU2GUEG</th>\n",
       "      <td>4</td>\n",
       "      <td>I had Dirt 2 on Xbox 360 and it was an okay ga...</td>\n",
       "      <td>Angry Ryan \"Ryan A. Forrest\"</td>\n",
       "      <td>DIRT 3</td>\n",
       "      <td>2011-06-14</td>\n",
       "      <td>1.000000</td>\n",
       "      <td>2</td>\n",
       "      <td>6629</td>\n",
       "      <td>Dirt 3 is a popular rally racing game for Play...</td>\n",
       "      <td>246.63</td>\n",
       "      <td></td>\n",
       "      <td></td>\n",
       "      <td>294</td>\n",
       "      <td>6</td>\n",
       "      <td>28.0</td>\n",
       "    </tr>\n",
       "  </tbody>\n",
       "</table>\n",
       "</div>"
      ],
      "text/plain": [
       "                           overall  \\\n",
       "asin       reviewerID                \n",
       "0700099867 A2HD75EMZR8QLN        1   \n",
       "           A3UR8NLLY1ZHCX        4   \n",
       "           A1INA0F5CWW3J4        1   \n",
       "           A1DLMTOTHQ4AST        3   \n",
       "           A361M14PU2GUEG        4   \n",
       "\n",
       "                                                                  reviewText  \\\n",
       "asin       reviewerID                                                          \n",
       "0700099867 A2HD75EMZR8QLN  Installing the game was a struggle (because of...   \n",
       "           A3UR8NLLY1ZHCX  If you like rally cars get this game you will ...   \n",
       "           A1INA0F5CWW3J4  1st shipment received a book instead of the ga...   \n",
       "           A1DLMTOTHQ4AST  I got this version instead of the PS3 version,...   \n",
       "           A361M14PU2GUEG  I had Dirt 2 on Xbox 360 and it was an okay ga...   \n",
       "\n",
       "                                                 reviewerName  \\\n",
       "asin       reviewerID                                           \n",
       "0700099867 A2HD75EMZR8QLN                                 123   \n",
       "           A3UR8NLLY1ZHCX  Alejandro Henao \"Electronic Junky\"   \n",
       "           A1INA0F5CWW3J4          Amazon Shopper \"Mr.Repsol\"   \n",
       "           A1DLMTOTHQ4AST                            ampgreen   \n",
       "           A361M14PU2GUEG        Angry Ryan \"Ryan A. Forrest\"   \n",
       "\n",
       "                                                                   summary  \\\n",
       "asin       reviewerID                                                        \n",
       "0700099867 A2HD75EMZR8QLN         Pay to unlock content? I don't think so.   \n",
       "           A3UR8NLLY1ZHCX                                  Good rally game   \n",
       "           A1INA0F5CWW3J4                                        Wrong key   \n",
       "           A1DLMTOTHQ4AST  awesome game, if it did not crash frequently !!   \n",
       "           A361M14PU2GUEG                                           DIRT 3   \n",
       "\n",
       "                                date  helpfulRate  helpfulCount  rank  \\\n",
       "asin       reviewerID                                                   \n",
       "0700099867 A2HD75EMZR8QLN 2012-07-09     0.666667            12  6629   \n",
       "           A3UR8NLLY1ZHCX 2013-06-30    -1.000000             0  6629   \n",
       "           A1INA0F5CWW3J4 2014-06-28    -1.000000             0  6629   \n",
       "           A1DLMTOTHQ4AST 2011-09-14     0.700000            10  6629   \n",
       "           A361M14PU2GUEG 2011-06-14     1.000000             2  6629   \n",
       "\n",
       "                                                                 description  \\\n",
       "asin       reviewerID                                                          \n",
       "0700099867 A2HD75EMZR8QLN  Dirt 3 is a popular rally racing game for Play...   \n",
       "           A3UR8NLLY1ZHCX  Dirt 3 is a popular rally racing game for Play...   \n",
       "           A1INA0F5CWW3J4  Dirt 3 is a popular rally racing game for Play...   \n",
       "           A1DLMTOTHQ4AST  Dirt 3 is a popular rally racing game for Play...   \n",
       "           A361M14PU2GUEG  Dirt 3 is a popular rally racing game for Play...   \n",
       "\n",
       "                            price title brand  reviewLength  summaryLength  \\\n",
       "asin       reviewerID                                                        \n",
       "0700099867 A2HD75EMZR8QLN  246.63                       779             40   \n",
       "           A3UR8NLLY1ZHCX  246.63                       304             15   \n",
       "           A1INA0F5CWW3J4  246.63                       282              9   \n",
       "           A1DLMTOTHQ4AST  246.63                      3489             47   \n",
       "           A361M14PU2GUEG  246.63                       294              6   \n",
       "\n",
       "                           reviewerNameLength  \n",
       "asin       reviewerID                          \n",
       "0700099867 A2HD75EMZR8QLN                 3.0  \n",
       "           A3UR8NLLY1ZHCX                34.0  \n",
       "           A1INA0F5CWW3J4                26.0  \n",
       "           A1DLMTOTHQ4AST                 8.0  \n",
       "           A361M14PU2GUEG                28.0  "
      ]
     },
     "execution_count": 133,
     "metadata": {},
     "output_type": "execute_result"
    }
   ],
   "source": [
    "video_games['reviewLength'] = video_games['reviewText'].str.len()\n",
    "video_games['summaryLength'] = video_games['summary'].str.len()\n",
    "video_games['reviewerNameLength'] = video_games['reviewerName'].str.len()\n",
    "\n",
    "video_games.head()"
   ]
  },
  {
   "cell_type": "markdown",
   "metadata": {},
   "source": [
    "We display the correlation matrix and scatter plot:"
   ]
  },
  {
   "cell_type": "code",
   "execution_count": 134,
   "metadata": {},
   "outputs": [
    {
     "data": {
      "text/html": [
       "<div>\n",
       "<style>\n",
       "    .dataframe thead tr:only-child th {\n",
       "        text-align: right;\n",
       "    }\n",
       "\n",
       "    .dataframe thead th {\n",
       "        text-align: left;\n",
       "    }\n",
       "\n",
       "    .dataframe tbody tr th {\n",
       "        vertical-align: top;\n",
       "    }\n",
       "</style>\n",
       "<table border=\"1\" class=\"dataframe\">\n",
       "  <thead>\n",
       "    <tr style=\"text-align: right;\">\n",
       "      <th></th>\n",
       "      <th>overall</th>\n",
       "      <th>helpfulRate</th>\n",
       "      <th>helpfulCount</th>\n",
       "      <th>rank</th>\n",
       "      <th>price</th>\n",
       "      <th>reviewLength</th>\n",
       "      <th>summaryLength</th>\n",
       "      <th>reviewerNameLength</th>\n",
       "    </tr>\n",
       "  </thead>\n",
       "  <tbody>\n",
       "    <tr>\n",
       "      <th>overall</th>\n",
       "      <td>1.000000</td>\n",
       "      <td>-0.133272</td>\n",
       "      <td>-0.086515</td>\n",
       "      <td>-0.103580</td>\n",
       "      <td>0.054490</td>\n",
       "      <td>-0.062702</td>\n",
       "      <td>-0.074935</td>\n",
       "      <td>-0.009817</td>\n",
       "    </tr>\n",
       "    <tr>\n",
       "      <th>helpfulRate</th>\n",
       "      <td>-0.133272</td>\n",
       "      <td>1.000000</td>\n",
       "      <td>0.121019</td>\n",
       "      <td>0.111745</td>\n",
       "      <td>0.024150</td>\n",
       "      <td>0.294168</td>\n",
       "      <td>0.176459</td>\n",
       "      <td>0.099481</td>\n",
       "    </tr>\n",
       "    <tr>\n",
       "      <th>helpfulCount</th>\n",
       "      <td>-0.086515</td>\n",
       "      <td>0.121019</td>\n",
       "      <td>1.000000</td>\n",
       "      <td>-0.004194</td>\n",
       "      <td>0.007926</td>\n",
       "      <td>0.132578</td>\n",
       "      <td>0.056006</td>\n",
       "      <td>0.024202</td>\n",
       "    </tr>\n",
       "    <tr>\n",
       "      <th>rank</th>\n",
       "      <td>-0.103580</td>\n",
       "      <td>0.111745</td>\n",
       "      <td>-0.004194</td>\n",
       "      <td>1.000000</td>\n",
       "      <td>-0.044552</td>\n",
       "      <td>0.025594</td>\n",
       "      <td>0.024803</td>\n",
       "      <td>0.068892</td>\n",
       "    </tr>\n",
       "    <tr>\n",
       "      <th>price</th>\n",
       "      <td>0.054490</td>\n",
       "      <td>0.024150</td>\n",
       "      <td>0.007926</td>\n",
       "      <td>-0.044552</td>\n",
       "      <td>1.000000</td>\n",
       "      <td>0.018522</td>\n",
       "      <td>0.021716</td>\n",
       "      <td>0.011590</td>\n",
       "    </tr>\n",
       "    <tr>\n",
       "      <th>reviewLength</th>\n",
       "      <td>-0.062702</td>\n",
       "      <td>0.294168</td>\n",
       "      <td>0.132578</td>\n",
       "      <td>0.025594</td>\n",
       "      <td>0.018522</td>\n",
       "      <td>1.000000</td>\n",
       "      <td>0.309686</td>\n",
       "      <td>0.098275</td>\n",
       "    </tr>\n",
       "    <tr>\n",
       "      <th>summaryLength</th>\n",
       "      <td>-0.074935</td>\n",
       "      <td>0.176459</td>\n",
       "      <td>0.056006</td>\n",
       "      <td>0.024803</td>\n",
       "      <td>0.021716</td>\n",
       "      <td>0.309686</td>\n",
       "      <td>1.000000</td>\n",
       "      <td>0.094534</td>\n",
       "    </tr>\n",
       "    <tr>\n",
       "      <th>reviewerNameLength</th>\n",
       "      <td>-0.009817</td>\n",
       "      <td>0.099481</td>\n",
       "      <td>0.024202</td>\n",
       "      <td>0.068892</td>\n",
       "      <td>0.011590</td>\n",
       "      <td>0.098275</td>\n",
       "      <td>0.094534</td>\n",
       "      <td>1.000000</td>\n",
       "    </tr>\n",
       "  </tbody>\n",
       "</table>\n",
       "</div>"
      ],
      "text/plain": [
       "                     overall  helpfulRate  helpfulCount      rank     price  \\\n",
       "overall             1.000000    -0.133272     -0.086515 -0.103580  0.054490   \n",
       "helpfulRate        -0.133272     1.000000      0.121019  0.111745  0.024150   \n",
       "helpfulCount       -0.086515     0.121019      1.000000 -0.004194  0.007926   \n",
       "rank               -0.103580     0.111745     -0.004194  1.000000 -0.044552   \n",
       "price               0.054490     0.024150      0.007926 -0.044552  1.000000   \n",
       "reviewLength       -0.062702     0.294168      0.132578  0.025594  0.018522   \n",
       "summaryLength      -0.074935     0.176459      0.056006  0.024803  0.021716   \n",
       "reviewerNameLength -0.009817     0.099481      0.024202  0.068892  0.011590   \n",
       "\n",
       "                    reviewLength  summaryLength  reviewerNameLength  \n",
       "overall                -0.062702      -0.074935           -0.009817  \n",
       "helpfulRate             0.294168       0.176459            0.099481  \n",
       "helpfulCount            0.132578       0.056006            0.024202  \n",
       "rank                    0.025594       0.024803            0.068892  \n",
       "price                   0.018522       0.021716            0.011590  \n",
       "reviewLength            1.000000       0.309686            0.098275  \n",
       "summaryLength           0.309686       1.000000            0.094534  \n",
       "reviewerNameLength      0.098275       0.094534            1.000000  "
      ]
     },
     "execution_count": 134,
     "metadata": {},
     "output_type": "execute_result"
    }
   ],
   "source": [
    "video_games.corr()"
   ]
  },
  {
   "cell_type": "code",
   "execution_count": null,
   "metadata": {},
   "outputs": [],
   "source": [
    "from pandas.tools.plotting import scatter_matrix\n",
    "\n",
    "axes = scatter_matrix(video_games, alpha=0.5, diagonal='kde')\n",
    "corr = video_games.corr().as_matrix()\n",
    "for i, j in zip(*plt.np.triu_indices_from(axes, k=1)):\n",
    "    axes[i, j].annotate(\"%.3f\" %corr[i,j], (0.8, 0.8), xycoords='axes fraction', ha='center', va='center')\n",
    "\n",
    "plt.show()"
   ]
  },
  {
   "cell_type": "markdown",
   "metadata": {},
   "source": [
    "- There is some correlation between between `reviewLength` and the `helpfulRate`. We can think that more the `reviewLength` is high, more the review can contain more descriptions and arguments, so it can increase the helpfullness.   \n",
    "- Then, the `summaryLength` and the `reviewLength` seems to be also correlated. The more the review text is lengthy, the more the summary needs letters to summarize it."
   ]
  },
  {
   "cell_type": "markdown",
   "metadata": {},
   "source": [
    "## Machine learning exploratory\n",
    "\n",
    "We now use some machine learning methods to improve our analysis.\n",
    "\n",
    "### TF-IDF "
   ]
  },
  {
   "cell_type": "code",
   "execution_count": 23,
   "metadata": {},
   "outputs": [
    {
     "data": {
      "text/html": [
       "<div>\n",
       "<style>\n",
       "    .dataframe thead tr:only-child th {\n",
       "        text-align: right;\n",
       "    }\n",
       "\n",
       "    .dataframe thead th {\n",
       "        text-align: left;\n",
       "    }\n",
       "\n",
       "    .dataframe tbody tr th {\n",
       "        vertical-align: top;\n",
       "    }\n",
       "</style>\n",
       "<table border=\"1\" class=\"dataframe\">\n",
       "  <thead>\n",
       "    <tr style=\"text-align: right;\">\n",
       "      <th></th>\n",
       "      <th>1</th>\n",
       "      <th>2</th>\n",
       "      <th>3</th>\n",
       "      <th>4</th>\n",
       "      <th>5</th>\n",
       "    </tr>\n",
       "  </thead>\n",
       "  <tbody>\n",
       "    <tr>\n",
       "      <th>0</th>\n",
       "      <td>used</td>\n",
       "      <td>pc</td>\n",
       "      <td>having</td>\n",
       "      <td>fairly</td>\n",
       "      <td>start</td>\n",
       "    </tr>\n",
       "    <tr>\n",
       "      <th>1</th>\n",
       "      <td>launch</td>\n",
       "      <td>games</td>\n",
       "      <td>released</td>\n",
       "      <td>pretty</td>\n",
       "      <td>ps3</td>\n",
       "    </tr>\n",
       "    <tr>\n",
       "      <th>2</th>\n",
       "      <td>going</td>\n",
       "      <td>ps4</td>\n",
       "      <td>fun</td>\n",
       "      <td>time</td>\n",
       "      <td>longer</td>\n",
       "    </tr>\n",
       "    <tr>\n",
       "      <th>3</th>\n",
       "      <td>money</td>\n",
       "      <td>day</td>\n",
       "      <td>love</td>\n",
       "      <td>buying</td>\n",
       "      <td>damn</td>\n",
       "    </tr>\n",
       "    <tr>\n",
       "      <th>4</th>\n",
       "      <td>make</td>\n",
       "      <td>playing</td>\n",
       "      <td>research</td>\n",
       "      <td>console</td>\n",
       "      <td>fee</td>\n",
       "    </tr>\n",
       "    <tr>\n",
       "      <th>5</th>\n",
       "      <td>console</td>\n",
       "      <td>bought</td>\n",
       "      <td>early</td>\n",
       "      <td>available</td>\n",
       "      <td>ps4</td>\n",
       "    </tr>\n",
       "    <tr>\n",
       "      <th>6</th>\n",
       "      <td>game</td>\n",
       "      <td>ps</td>\n",
       "      <td>problem</td>\n",
       "      <td>ve</td>\n",
       "      <td>button</td>\n",
       "    </tr>\n",
       "    <tr>\n",
       "      <th>7</th>\n",
       "      <td>good</td>\n",
       "      <td>xbox</td>\n",
       "      <td>hope</td>\n",
       "      <td>issues</td>\n",
       "      <td>charge</td>\n",
       "    </tr>\n",
       "    <tr>\n",
       "      <th>8</th>\n",
       "      <td>getting</td>\n",
       "      <td>just</td>\n",
       "      <td>wasn</td>\n",
       "      <td>far</td>\n",
       "      <td>options</td>\n",
       "    </tr>\n",
       "    <tr>\n",
       "      <th>9</th>\n",
       "      <td>gaming</td>\n",
       "      <td>console</td>\n",
       "      <td>little</td>\n",
       "      <td>gaming</td>\n",
       "      <td>playstation</td>\n",
       "    </tr>\n",
       "  </tbody>\n",
       "</table>\n",
       "</div>"
      ],
      "text/plain": [
       "         1        2         3          4            5\n",
       "0     used       pc    having     fairly        start\n",
       "1   launch    games  released     pretty          ps3\n",
       "2    going      ps4       fun       time       longer\n",
       "3    money      day      love     buying         damn\n",
       "4     make  playing  research    console          fee\n",
       "5  console   bought     early  available          ps4\n",
       "6     game       ps   problem         ve       button\n",
       "7     good     xbox      hope     issues       charge\n",
       "8  getting     just      wasn        far      options\n",
       "9   gaming  console    little     gaming  playstation"
      ]
     },
     "execution_count": 23,
     "metadata": {},
     "output_type": "execute_result"
    }
   ],
   "source": [
    "from sklearn.feature_extraction.text import TfidfVectorizer\n",
    "\n",
    "def get_top_words(text_series):\n",
    "    vectorizer = TfidfVectorizer(stop_words = 'english', min_df=5) # Remove stop words and words appearing in less than 5 examples\n",
    "    tfidf_matrix = vectorizer.fit_transform(text_series)\n",
    "    feature_names = vectorizer.get_feature_names() \n",
    "\n",
    "    feature_array = np.array(feature_names)\n",
    "    tfidf_sorting = np.argsort(tfidf_matrix.toarray()).flatten()[::-1]\n",
    "\n",
    "    n = 10\n",
    "    top_n = feature_array[tfidf_sorting][:n]\n",
    "    return top_n\n",
    "\n",
    "\n",
    "top_words_per_overall = pd.DataFrame()\n",
    "\n",
    "for i in range(5):\n",
    "    top_words_per_overall[i+1] = get_top_words(most_reviewed_reviews[most_reviewed_reviews.overall == (i+1)].reviewText)\n",
    "top_words_per_overall"
   ]
  },
  {
   "cell_type": "code",
   "execution_count": 24,
   "metadata": {},
   "outputs": [],
   "source": [
    "vectorizer = TfidfVectorizer(stop_words = 'english', min_df=5)\n",
    "tfidf_matrix = vectorizer.fit_transform(most_reviewed_reviews.reviewText)"
   ]
  },
  {
   "cell_type": "markdown",
   "metadata": {},
   "source": [
    "#### Clustering attempt\n",
    "\n",
    "##### KMeans"
   ]
  },
  {
   "cell_type": "code",
   "execution_count": 25,
   "metadata": {
    "scrolled": false
   },
   "outputs": [
    {
     "data": {
      "image/png": "[encoded data removed]",
      "text/plain": [
       "<matplotlib.figure.Figure at 0x7f1b20059b70>"
      ]
     },
     "metadata": {},
     "output_type": "display_data"
    }
   ],
   "source": [
    "from sklearn.cluster import KMeans\n",
    "\n",
    "k = 5\n",
    "km = KMeans(n_clusters=k, init='k-means++', max_iter=100, n_init=5)\n",
    "km.fit(tfidf_matrix)\n",
    "\n",
    "plt.hist(km.labels_, bins=k)\n",
    "plt.title('Number of reviews by classes')\n",
    "plt.show()"
   ]
  },
  {
   "cell_type": "code",
   "execution_count": 26,
   "metadata": {},
   "outputs": [],
   "source": [
    "clusters = {}\n",
    "\n",
    "for i in set(km.labels_):\n",
    "    #print i\n",
    "    current_cluster_bills = [most_reviewed_reviews.iloc[x] for x in np.where(km.labels_ == i)[0]]\n",
    "    clusters[i] = pd.DataFrame(current_cluster_bills)"
   ]
  },
  {
   "cell_type": "code",
   "execution_count": 27,
   "metadata": {},
   "outputs": [
    {
     "data": {
      "text/html": [
       "<div>\n",
       "<style>\n",
       "    .dataframe thead tr:only-child th {\n",
       "        text-align: right;\n",
       "    }\n",
       "\n",
       "    .dataframe thead th {\n",
       "        text-align: left;\n",
       "    }\n",
       "\n",
       "    .dataframe tbody tr th {\n",
       "        vertical-align: top;\n",
       "    }\n",
       "</style>\n",
       "<table border=\"1\" class=\"dataframe\">\n",
       "  <thead>\n",
       "    <tr style=\"text-align: right;\">\n",
       "      <th></th>\n",
       "      <th>overall</th>\n",
       "      <th>helpfulRate</th>\n",
       "      <th>helpfulCount</th>\n",
       "    </tr>\n",
       "  </thead>\n",
       "  <tbody>\n",
       "    <tr>\n",
       "      <th>count</th>\n",
       "      <td>273.000000</td>\n",
       "      <td>273.000000</td>\n",
       "      <td>273.000000</td>\n",
       "    </tr>\n",
       "    <tr>\n",
       "      <th>mean</th>\n",
       "      <td>4.611722</td>\n",
       "      <td>0.455972</td>\n",
       "      <td>6.589744</td>\n",
       "    </tr>\n",
       "    <tr>\n",
       "      <th>std</th>\n",
       "      <td>0.967947</td>\n",
       "      <td>0.474088</td>\n",
       "      <td>10.111520</td>\n",
       "    </tr>\n",
       "    <tr>\n",
       "      <th>min</th>\n",
       "      <td>1.000000</td>\n",
       "      <td>-1.000000</td>\n",
       "      <td>0.000000</td>\n",
       "    </tr>\n",
       "    <tr>\n",
       "      <th>25%</th>\n",
       "      <td>5.000000</td>\n",
       "      <td>0.285714</td>\n",
       "      <td>2.000000</td>\n",
       "    </tr>\n",
       "    <tr>\n",
       "      <th>50%</th>\n",
       "      <td>5.000000</td>\n",
       "      <td>0.500000</td>\n",
       "      <td>4.000000</td>\n",
       "    </tr>\n",
       "    <tr>\n",
       "      <th>75%</th>\n",
       "      <td>5.000000</td>\n",
       "      <td>0.727273</td>\n",
       "      <td>7.000000</td>\n",
       "    </tr>\n",
       "    <tr>\n",
       "      <th>max</th>\n",
       "      <td>5.000000</td>\n",
       "      <td>1.000000</td>\n",
       "      <td>103.000000</td>\n",
       "    </tr>\n",
       "  </tbody>\n",
       "</table>\n",
       "</div>"
      ],
      "text/plain": [
       "          overall  helpfulRate  helpfulCount\n",
       "count  273.000000   273.000000    273.000000\n",
       "mean     4.611722     0.455972      6.589744\n",
       "std      0.967947     0.474088     10.111520\n",
       "min      1.000000    -1.000000      0.000000\n",
       "25%      5.000000     0.285714      2.000000\n",
       "50%      5.000000     0.500000      4.000000\n",
       "75%      5.000000     0.727273      7.000000\n",
       "max      5.000000     1.000000    103.000000"
      ]
     },
     "execution_count": 27,
     "metadata": {},
     "output_type": "execute_result"
    }
   ],
   "source": [
    "clusters[1].describe()"
   ]
  },
  {
   "cell_type": "code",
   "execution_count": 28,
   "metadata": {},
   "outputs": [
    {
     "data": {
      "text/html": [
       "<div>\n",
       "<style>\n",
       "    .dataframe thead tr:only-child th {\n",
       "        text-align: right;\n",
       "    }\n",
       "\n",
       "    .dataframe thead th {\n",
       "        text-align: left;\n",
       "    }\n",
       "\n",
       "    .dataframe tbody tr th {\n",
       "        vertical-align: top;\n",
       "    }\n",
       "</style>\n",
       "<table border=\"1\" class=\"dataframe\">\n",
       "  <thead>\n",
       "    <tr style=\"text-align: right;\">\n",
       "      <th></th>\n",
       "      <th>overall</th>\n",
       "      <th>helpfulRate</th>\n",
       "      <th>helpfulCount</th>\n",
       "    </tr>\n",
       "  </thead>\n",
       "  <tbody>\n",
       "    <tr>\n",
       "      <th>count</th>\n",
       "      <td>119.000000</td>\n",
       "      <td>119.000000</td>\n",
       "      <td>119.000000</td>\n",
       "    </tr>\n",
       "    <tr>\n",
       "      <th>mean</th>\n",
       "      <td>4.235294</td>\n",
       "      <td>0.534182</td>\n",
       "      <td>24.168067</td>\n",
       "    </tr>\n",
       "    <tr>\n",
       "      <th>std</th>\n",
       "      <td>1.382125</td>\n",
       "      <td>0.398492</td>\n",
       "      <td>132.691455</td>\n",
       "    </tr>\n",
       "    <tr>\n",
       "      <th>min</th>\n",
       "      <td>1.000000</td>\n",
       "      <td>-1.000000</td>\n",
       "      <td>0.000000</td>\n",
       "    </tr>\n",
       "    <tr>\n",
       "      <th>25%</th>\n",
       "      <td>4.000000</td>\n",
       "      <td>0.400000</td>\n",
       "      <td>3.000000</td>\n",
       "    </tr>\n",
       "    <tr>\n",
       "      <th>50%</th>\n",
       "      <td>5.000000</td>\n",
       "      <td>0.600000</td>\n",
       "      <td>5.000000</td>\n",
       "    </tr>\n",
       "    <tr>\n",
       "      <th>75%</th>\n",
       "      <td>5.000000</td>\n",
       "      <td>0.750000</td>\n",
       "      <td>9.500000</td>\n",
       "    </tr>\n",
       "    <tr>\n",
       "      <th>max</th>\n",
       "      <td>5.000000</td>\n",
       "      <td>1.000000</td>\n",
       "      <td>1431.000000</td>\n",
       "    </tr>\n",
       "  </tbody>\n",
       "</table>\n",
       "</div>"
      ],
      "text/plain": [
       "          overall  helpfulRate  helpfulCount\n",
       "count  119.000000   119.000000    119.000000\n",
       "mean     4.235294     0.534182     24.168067\n",
       "std      1.382125     0.398492    132.691455\n",
       "min      1.000000    -1.000000      0.000000\n",
       "25%      4.000000     0.400000      3.000000\n",
       "50%      5.000000     0.600000      5.000000\n",
       "75%      5.000000     0.750000      9.500000\n",
       "max      5.000000     1.000000   1431.000000"
      ]
     },
     "execution_count": 28,
     "metadata": {},
     "output_type": "execute_result"
    }
   ],
   "source": [
    "clusters[2].describe()"
   ]
  },
  {
   "cell_type": "code",
   "execution_count": 29,
   "metadata": {},
   "outputs": [
    {
     "data": {
      "text/html": [
       "<div>\n",
       "<style>\n",
       "    .dataframe thead tr:only-child th {\n",
       "        text-align: right;\n",
       "    }\n",
       "\n",
       "    .dataframe thead th {\n",
       "        text-align: left;\n",
       "    }\n",
       "\n",
       "    .dataframe tbody tr th {\n",
       "        vertical-align: top;\n",
       "    }\n",
       "</style>\n",
       "<table border=\"1\" class=\"dataframe\">\n",
       "  <thead>\n",
       "    <tr style=\"text-align: right;\">\n",
       "      <th></th>\n",
       "      <th>overall</th>\n",
       "      <th>helpfulRate</th>\n",
       "      <th>helpfulCount</th>\n",
       "    </tr>\n",
       "  </thead>\n",
       "  <tbody>\n",
       "    <tr>\n",
       "      <th>count</th>\n",
       "      <td>254.000000</td>\n",
       "      <td>254.000000</td>\n",
       "      <td>254.000000</td>\n",
       "    </tr>\n",
       "    <tr>\n",
       "      <th>mean</th>\n",
       "      <td>4.440945</td>\n",
       "      <td>0.508411</td>\n",
       "      <td>7.956693</td>\n",
       "    </tr>\n",
       "    <tr>\n",
       "      <th>std</th>\n",
       "      <td>0.929563</td>\n",
       "      <td>0.403489</td>\n",
       "      <td>10.513406</td>\n",
       "    </tr>\n",
       "    <tr>\n",
       "      <th>min</th>\n",
       "      <td>1.000000</td>\n",
       "      <td>-1.000000</td>\n",
       "      <td>0.000000</td>\n",
       "    </tr>\n",
       "    <tr>\n",
       "      <th>25%</th>\n",
       "      <td>4.000000</td>\n",
       "      <td>0.400000</td>\n",
       "      <td>3.000000</td>\n",
       "    </tr>\n",
       "    <tr>\n",
       "      <th>50%</th>\n",
       "      <td>5.000000</td>\n",
       "      <td>0.600000</td>\n",
       "      <td>5.000000</td>\n",
       "    </tr>\n",
       "    <tr>\n",
       "      <th>75%</th>\n",
       "      <td>5.000000</td>\n",
       "      <td>0.710714</td>\n",
       "      <td>9.000000</td>\n",
       "    </tr>\n",
       "    <tr>\n",
       "      <th>max</th>\n",
       "      <td>5.000000</td>\n",
       "      <td>1.000000</td>\n",
       "      <td>117.000000</td>\n",
       "    </tr>\n",
       "  </tbody>\n",
       "</table>\n",
       "</div>"
      ],
      "text/plain": [
       "          overall  helpfulRate  helpfulCount\n",
       "count  254.000000   254.000000    254.000000\n",
       "mean     4.440945     0.508411      7.956693\n",
       "std      0.929563     0.403489     10.513406\n",
       "min      1.000000    -1.000000      0.000000\n",
       "25%      4.000000     0.400000      3.000000\n",
       "50%      5.000000     0.600000      5.000000\n",
       "75%      5.000000     0.710714      9.000000\n",
       "max      5.000000     1.000000    117.000000"
      ]
     },
     "execution_count": 29,
     "metadata": {},
     "output_type": "execute_result"
    }
   ],
   "source": [
    "clusters[3].describe()"
   ]
  },
  {
   "cell_type": "code",
   "execution_count": 30,
   "metadata": {},
   "outputs": [
    {
     "data": {
      "text/html": [
       "<div>\n",
       "<style>\n",
       "    .dataframe thead tr:only-child th {\n",
       "        text-align: right;\n",
       "    }\n",
       "\n",
       "    .dataframe thead th {\n",
       "        text-align: left;\n",
       "    }\n",
       "\n",
       "    .dataframe tbody tr th {\n",
       "        vertical-align: top;\n",
       "    }\n",
       "</style>\n",
       "<table border=\"1\" class=\"dataframe\">\n",
       "  <thead>\n",
       "    <tr style=\"text-align: right;\">\n",
       "      <th></th>\n",
       "      <th>overall</th>\n",
       "      <th>helpfulRate</th>\n",
       "      <th>helpfulCount</th>\n",
       "    </tr>\n",
       "  </thead>\n",
       "  <tbody>\n",
       "    <tr>\n",
       "      <th>count</th>\n",
       "      <td>131.000000</td>\n",
       "      <td>131.000000</td>\n",
       "      <td>131.000000</td>\n",
       "    </tr>\n",
       "    <tr>\n",
       "      <th>mean</th>\n",
       "      <td>3.847328</td>\n",
       "      <td>0.402855</td>\n",
       "      <td>14.702290</td>\n",
       "    </tr>\n",
       "    <tr>\n",
       "      <th>std</th>\n",
       "      <td>1.670897</td>\n",
       "      <td>0.395498</td>\n",
       "      <td>16.343757</td>\n",
       "    </tr>\n",
       "    <tr>\n",
       "      <th>min</th>\n",
       "      <td>1.000000</td>\n",
       "      <td>-1.000000</td>\n",
       "      <td>0.000000</td>\n",
       "    </tr>\n",
       "    <tr>\n",
       "      <th>25%</th>\n",
       "      <td>3.000000</td>\n",
       "      <td>0.323214</td>\n",
       "      <td>4.000000</td>\n",
       "    </tr>\n",
       "    <tr>\n",
       "      <th>50%</th>\n",
       "      <td>5.000000</td>\n",
       "      <td>0.500000</td>\n",
       "      <td>8.000000</td>\n",
       "    </tr>\n",
       "    <tr>\n",
       "      <th>75%</th>\n",
       "      <td>5.000000</td>\n",
       "      <td>0.611207</td>\n",
       "      <td>21.500000</td>\n",
       "    </tr>\n",
       "    <tr>\n",
       "      <th>max</th>\n",
       "      <td>5.000000</td>\n",
       "      <td>1.000000</td>\n",
       "      <td>98.000000</td>\n",
       "    </tr>\n",
       "  </tbody>\n",
       "</table>\n",
       "</div>"
      ],
      "text/plain": [
       "          overall  helpfulRate  helpfulCount\n",
       "count  131.000000   131.000000    131.000000\n",
       "mean     3.847328     0.402855     14.702290\n",
       "std      1.670897     0.395498     16.343757\n",
       "min      1.000000    -1.000000      0.000000\n",
       "25%      3.000000     0.323214      4.000000\n",
       "50%      5.000000     0.500000      8.000000\n",
       "75%      5.000000     0.611207     21.500000\n",
       "max      5.000000     1.000000     98.000000"
      ]
     },
     "execution_count": 30,
     "metadata": {},
     "output_type": "execute_result"
    }
   ],
   "source": [
    "clusters[4].describe()"
   ]
  },
  {
   "cell_type": "markdown",
   "metadata": {},
   "source": [
    "##### Select only numeric data"
   ]
  },
  {
   "cell_type": "code",
   "execution_count": 31,
   "metadata": {},
   "outputs": [
    {
     "data": {
      "text/html": [
       "<div>\n",
       "<style>\n",
       "    .dataframe thead tr:only-child th {\n",
       "        text-align: right;\n",
       "    }\n",
       "\n",
       "    .dataframe thead th {\n",
       "        text-align: left;\n",
       "    }\n",
       "\n",
       "    .dataframe tbody tr th {\n",
       "        vertical-align: top;\n",
       "    }\n",
       "</style>\n",
       "<table border=\"1\" class=\"dataframe\">\n",
       "  <thead>\n",
       "    <tr style=\"text-align: right;\">\n",
       "      <th></th>\n",
       "      <th>overall</th>\n",
       "      <th>helpfulRate</th>\n",
       "      <th>helpfulCount</th>\n",
       "    </tr>\n",
       "    <tr>\n",
       "      <th>reviewerID</th>\n",
       "      <th></th>\n",
       "      <th></th>\n",
       "      <th></th>\n",
       "    </tr>\n",
       "  </thead>\n",
       "  <tbody>\n",
       "    <tr>\n",
       "      <th>A2CLZBE0EJWJXX</th>\n",
       "      <td>5</td>\n",
       "      <td>0.166667</td>\n",
       "      <td>6</td>\n",
       "    </tr>\n",
       "    <tr>\n",
       "      <th>ABY5Z7DYBIQWS</th>\n",
       "      <td>5</td>\n",
       "      <td>0.000000</td>\n",
       "      <td>1</td>\n",
       "    </tr>\n",
       "    <tr>\n",
       "      <th>AD0SJOW5Z2VM6</th>\n",
       "      <td>4</td>\n",
       "      <td>0.590909</td>\n",
       "      <td>44</td>\n",
       "    </tr>\n",
       "    <tr>\n",
       "      <th>AOWO3CTZLNXYS</th>\n",
       "      <td>5</td>\n",
       "      <td>0.000000</td>\n",
       "      <td>1</td>\n",
       "    </tr>\n",
       "    <tr>\n",
       "      <th>A3FXV9BW1KUQ7H</th>\n",
       "      <td>1</td>\n",
       "      <td>0.583333</td>\n",
       "      <td>24</td>\n",
       "    </tr>\n",
       "  </tbody>\n",
       "</table>\n",
       "</div>"
      ],
      "text/plain": [
       "                overall  helpfulRate  helpfulCount\n",
       "reviewerID                                        \n",
       "A2CLZBE0EJWJXX        5     0.166667             6\n",
       "ABY5Z7DYBIQWS         5     0.000000             1\n",
       "AD0SJOW5Z2VM6         4     0.590909            44\n",
       "AOWO3CTZLNXYS         5     0.000000             1\n",
       "A3FXV9BW1KUQ7H        1     0.583333            24"
      ]
     },
     "execution_count": 31,
     "metadata": {},
     "output_type": "execute_result"
    }
   ],
   "source": [
    "playstation_numeric_reviews = most_reviewed_reviews._get_numeric_data().dropna()\n",
    "playstation_numeric_reviews.head()"
   ]
  },
  {
   "cell_type": "markdown",
   "metadata": {},
   "source": [
    "##### PCA"
   ]
  },
  {
   "cell_type": "code",
   "execution_count": 32,
   "metadata": {},
   "outputs": [
    {
     "data": {
      "text/html": [
       "<div>\n",
       "<style>\n",
       "    .dataframe thead tr:only-child th {\n",
       "        text-align: right;\n",
       "    }\n",
       "\n",
       "    .dataframe thead th {\n",
       "        text-align: left;\n",
       "    }\n",
       "\n",
       "    .dataframe tbody tr th {\n",
       "        vertical-align: top;\n",
       "    }\n",
       "</style>\n",
       "<table border=\"1\" class=\"dataframe\">\n",
       "  <thead>\n",
       "    <tr style=\"text-align: right;\">\n",
       "      <th></th>\n",
       "      <th>PCA1</th>\n",
       "      <th>PCA2</th>\n",
       "    </tr>\n",
       "    <tr>\n",
       "      <th>reviewerID</th>\n",
       "      <th></th>\n",
       "      <th></th>\n",
       "    </tr>\n",
       "  </thead>\n",
       "  <tbody>\n",
       "    <tr>\n",
       "      <th>A2CLZBE0EJWJXX</th>\n",
       "      <td>-4.938026</td>\n",
       "      <td>0.584427</td>\n",
       "    </tr>\n",
       "    <tr>\n",
       "      <th>ABY5Z7DYBIQWS</th>\n",
       "      <td>-9.938051</td>\n",
       "      <td>0.560867</td>\n",
       "    </tr>\n",
       "    <tr>\n",
       "      <th>AD0SJOW5Z2VM6</th>\n",
       "      <td>33.064475</td>\n",
       "      <td>-0.290210</td>\n",
       "    </tr>\n",
       "    <tr>\n",
       "      <th>AOWO3CTZLNXYS</th>\n",
       "      <td>-9.938051</td>\n",
       "      <td>0.560867</td>\n",
       "    </tr>\n",
       "    <tr>\n",
       "      <th>A3FXV9BW1KUQ7H</th>\n",
       "      <td>13.072103</td>\n",
       "      <td>-3.334095</td>\n",
       "    </tr>\n",
       "  </tbody>\n",
       "</table>\n",
       "</div>"
      ],
      "text/plain": [
       "                     PCA1      PCA2\n",
       "reviewerID                         \n",
       "A2CLZBE0EJWJXX  -4.938026  0.584427\n",
       "ABY5Z7DYBIQWS   -9.938051  0.560867\n",
       "AD0SJOW5Z2VM6   33.064475 -0.290210\n",
       "AOWO3CTZLNXYS   -9.938051  0.560867\n",
       "A3FXV9BW1KUQ7H  13.072103 -3.334095"
      ]
     },
     "execution_count": 32,
     "metadata": {},
     "output_type": "execute_result"
    }
   ],
   "source": [
    "from sklearn.decomposition import PCA\n",
    "n_components = 2\n",
    "\n",
    "pca = PCA(n_components=n_components)\n",
    "pca.fit(playstation_numeric_reviews)\n",
    "pca_result = pd.DataFrame(pca.transform(playstation_numeric_reviews), columns=['PCA%i' % (i+1) for i in range(n_components)], index=playstation_numeric_reviews.index)\n",
    "pca_result.head()"
   ]
  },
  {
   "cell_type": "code",
   "execution_count": 33,
   "metadata": {},
   "outputs": [
    {
     "data": {
      "image/png": "[encoded data removed]",
      "text/plain": [
       "<matplotlib.figure.Figure at 0x7f1b20323198>"
      ]
     },
     "metadata": {},
     "output_type": "display_data"
    }
   ],
   "source": [
    "plt.scatter(pca_result.PCA1, pca_result.PCA2)\n",
    "plt.show()"
   ]
  },
  {
   "cell_type": "code",
   "execution_count": null,
   "metadata": {},
   "outputs": [],
   "source": []
  }
 ],
 "metadata": {
  "kernelspec": {
   "display_name": "Python [default]",
   "language": "python",
   "name": "python3"
  },
  "language_info": {
   "codemirror_mode": {
    "name": "ipython",
    "version": 3
   },
   "file_extension": ".py",
   "mimetype": "text/x-python",
   "name": "python",
   "nbconvert_exporter": "python",
   "pygments_lexer": "ipython3",
   "version": "3.5.4"
  }
 },
 "nbformat": 4,
 "nbformat_minor": 2
}
