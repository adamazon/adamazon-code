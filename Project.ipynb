{
 "cells": [
  {
   "cell_type": "code",
   "execution_count": 1,
   "metadata": {},
   "outputs": [],
   "source": [
    "%matplotlib inline\n",
    "import pandas as pd\n",
    "from datetime import datetime"
   ]
  },
  {
   "cell_type": "markdown",
   "metadata": {},
   "source": [
    "### File preparation\n",
    "\n",
    "To prepare the file and be able to read it properly, the following sed commands must be used:\n",
    "\n",
    "```sh\n",
    "sed -i '1s/^/[/' data/file.json # Starts JSON array\n",
    "sed -i -e 's/}/},/g' data/file.json # Separate objects with commas\n",
    "sed -i '$ s/,$/]/g' data/file.json # Ends JSON array\n",
    "```"
   ]
  },
  {
   "cell_type": "markdown",
   "metadata": {},
   "source": [
    "### Data importation\n",
    "\n",
    "We will start by focusing on one specific product subsection, here video games."
   ]
  },
  {
   "cell_type": "code",
   "execution_count": 2,
   "metadata": {},
   "outputs": [
    {
     "data": {
      "text/plain": [
       "helpful                 object\n",
       "overall                  int64\n",
       "reviewText              object\n",
       "reviewerName            object\n",
       "summary                 object\n",
       "date            datetime64[ns]\n",
       "dtype: object"
      ]
     },
     "execution_count": 2,
     "metadata": {},
     "output_type": "execute_result"
    }
   ],
   "source": [
    "video_games = pd.read_json('./data/video-games.json')\n",
    "\n",
    "# Cleaning dates\n",
    "del video_games['reviewTime'] # Duplicated information (already in unix review time)\n",
    "video_games['date'] = pd.to_datetime(video_games['unixReviewTime'], unit='s')\n",
    "del video_games['unixReviewTime']\n",
    "\n",
    "video_games.set_index(['asin', 'reviewerID'], inplace=True)\n",
    "video_games.dtypes"
   ]
  },
  {
   "cell_type": "markdown",
   "metadata": {},
   "source": [
    "### Data cleaning"
   ]
  },
  {
   "cell_type": "code",
   "execution_count": 3,
   "metadata": {},
   "outputs": [
    {
     "data": {
      "text/html": [
       "<div>\n",
       "<style>\n",
       "    .dataframe thead tr:only-child th {\n",
       "        text-align: right;\n",
       "    }\n",
       "\n",
       "    .dataframe thead th {\n",
       "        text-align: left;\n",
       "    }\n",
       "\n",
       "    .dataframe tbody tr th {\n",
       "        vertical-align: top;\n",
       "    }\n",
       "</style>\n",
       "<table border=\"1\" class=\"dataframe\">\n",
       "  <thead>\n",
       "    <tr style=\"text-align: right;\">\n",
       "      <th></th>\n",
       "      <th></th>\n",
       "      <th>helpful</th>\n",
       "      <th>overall</th>\n",
       "      <th>reviewText</th>\n",
       "      <th>reviewerName</th>\n",
       "      <th>summary</th>\n",
       "      <th>date</th>\n",
       "      <th>helpfulRate</th>\n",
       "    </tr>\n",
       "    <tr>\n",
       "      <th>asin</th>\n",
       "      <th>reviewerID</th>\n",
       "      <th></th>\n",
       "      <th></th>\n",
       "      <th></th>\n",
       "      <th></th>\n",
       "      <th></th>\n",
       "      <th></th>\n",
       "      <th></th>\n",
       "    </tr>\n",
       "  </thead>\n",
       "  <tbody>\n",
       "    <tr>\n",
       "      <th rowspan=\"5\" valign=\"top\">0700099867</th>\n",
       "      <th>A2HD75EMZR8QLN</th>\n",
       "      <td>[8, 12]</td>\n",
       "      <td>1</td>\n",
       "      <td>Installing the game was a struggle (because of...</td>\n",
       "      <td>123</td>\n",
       "      <td>Pay to unlock content? I don't think so.</td>\n",
       "      <td>2012-07-09</td>\n",
       "      <td>0.666667</td>\n",
       "    </tr>\n",
       "    <tr>\n",
       "      <th>A3UR8NLLY1ZHCX</th>\n",
       "      <td>[0, 0]</td>\n",
       "      <td>4</td>\n",
       "      <td>If you like rally cars get this game you will ...</td>\n",
       "      <td>Alejandro Henao \"Electronic Junky\"</td>\n",
       "      <td>Good rally game</td>\n",
       "      <td>2013-06-30</td>\n",
       "      <td>0.000000</td>\n",
       "    </tr>\n",
       "    <tr>\n",
       "      <th>A1INA0F5CWW3J4</th>\n",
       "      <td>[0, 0]</td>\n",
       "      <td>1</td>\n",
       "      <td>1st shipment received a book instead of the ga...</td>\n",
       "      <td>Amazon Shopper \"Mr.Repsol\"</td>\n",
       "      <td>Wrong key</td>\n",
       "      <td>2014-06-28</td>\n",
       "      <td>0.000000</td>\n",
       "    </tr>\n",
       "    <tr>\n",
       "      <th>A1DLMTOTHQ4AST</th>\n",
       "      <td>[7, 10]</td>\n",
       "      <td>3</td>\n",
       "      <td>I got this version instead of the PS3 version,...</td>\n",
       "      <td>ampgreen</td>\n",
       "      <td>awesome game, if it did not crash frequently !!</td>\n",
       "      <td>2011-09-14</td>\n",
       "      <td>0.700000</td>\n",
       "    </tr>\n",
       "    <tr>\n",
       "      <th>A361M14PU2GUEG</th>\n",
       "      <td>[2, 2]</td>\n",
       "      <td>4</td>\n",
       "      <td>I had Dirt 2 on Xbox 360 and it was an okay ga...</td>\n",
       "      <td>Angry Ryan \"Ryan A. Forrest\"</td>\n",
       "      <td>DIRT 3</td>\n",
       "      <td>2011-06-14</td>\n",
       "      <td>1.000000</td>\n",
       "    </tr>\n",
       "  </tbody>\n",
       "</table>\n",
       "</div>"
      ],
      "text/plain": [
       "                           helpful  overall  \\\n",
       "asin       reviewerID                         \n",
       "0700099867 A2HD75EMZR8QLN  [8, 12]        1   \n",
       "           A3UR8NLLY1ZHCX   [0, 0]        4   \n",
       "           A1INA0F5CWW3J4   [0, 0]        1   \n",
       "           A1DLMTOTHQ4AST  [7, 10]        3   \n",
       "           A361M14PU2GUEG   [2, 2]        4   \n",
       "\n",
       "                                                                  reviewText  \\\n",
       "asin       reviewerID                                                          \n",
       "0700099867 A2HD75EMZR8QLN  Installing the game was a struggle (because of...   \n",
       "           A3UR8NLLY1ZHCX  If you like rally cars get this game you will ...   \n",
       "           A1INA0F5CWW3J4  1st shipment received a book instead of the ga...   \n",
       "           A1DLMTOTHQ4AST  I got this version instead of the PS3 version,...   \n",
       "           A361M14PU2GUEG  I had Dirt 2 on Xbox 360 and it was an okay ga...   \n",
       "\n",
       "                                                 reviewerName  \\\n",
       "asin       reviewerID                                           \n",
       "0700099867 A2HD75EMZR8QLN                                 123   \n",
       "           A3UR8NLLY1ZHCX  Alejandro Henao \"Electronic Junky\"   \n",
       "           A1INA0F5CWW3J4          Amazon Shopper \"Mr.Repsol\"   \n",
       "           A1DLMTOTHQ4AST                            ampgreen   \n",
       "           A361M14PU2GUEG        Angry Ryan \"Ryan A. Forrest\"   \n",
       "\n",
       "                                                                   summary  \\\n",
       "asin       reviewerID                                                        \n",
       "0700099867 A2HD75EMZR8QLN         Pay to unlock content? I don't think so.   \n",
       "           A3UR8NLLY1ZHCX                                  Good rally game   \n",
       "           A1INA0F5CWW3J4                                        Wrong key   \n",
       "           A1DLMTOTHQ4AST  awesome game, if it did not crash frequently !!   \n",
       "           A361M14PU2GUEG                                           DIRT 3   \n",
       "\n",
       "                                date  helpfulRate  \n",
       "asin       reviewerID                              \n",
       "0700099867 A2HD75EMZR8QLN 2012-07-09     0.666667  \n",
       "           A3UR8NLLY1ZHCX 2013-06-30     0.000000  \n",
       "           A1INA0F5CWW3J4 2014-06-28     0.000000  \n",
       "           A1DLMTOTHQ4AST 2011-09-14     0.700000  \n",
       "           A361M14PU2GUEG 2011-06-14     1.000000  "
      ]
     },
     "execution_count": 3,
     "metadata": {},
     "output_type": "execute_result"
    }
   ],
   "source": [
    "def helpful_rate(row):\n",
    "    was_helpful = row.helpful[0]\n",
    "    total_evaluations = row.helpful[1]\n",
    "    \n",
    "    if total_evaluations == 0:\n",
    "        return 0\n",
    "    \n",
    "    return was_helpful/total_evaluations\n",
    "\n",
    "video_games['helpfulRate'] = video_games.apply(helpful_rate, axis=1)\n",
    "\n",
    "assert video_games.index.is_unique # There is no more than one review per person per product\n",
    "\n",
    "video_games.head()"
   ]
  },
  {
   "cell_type": "markdown",
   "metadata": {},
   "source": [
    "### Descriptive analysis\n",
    "\n",
    "We now start by looking at the repartition of evaluations, considering all the sold products."
   ]
  },
  {
   "cell_type": "code",
   "execution_count": 4,
   "metadata": {},
   "outputs": [
    {
     "data": {
      "text/plain": [
       "<matplotlib.axes._subplots.AxesSubplot at 0x7faee37927f0>"
      ]
     },
     "execution_count": 4,
     "metadata": {},
     "output_type": "execute_result"
    },
    {
     "data": {
      "image/png": "[encoded data removed]",
      "text/plain": [
       "<matplotlib.figure.Figure at 0x7faf08263be0>"
      ]
     },
     "metadata": {},
     "output_type": "display_data"
    }
   ],
   "source": [
    "video_games.overall.value_counts(ascending=True).sort_index().plot(kind='bar', rot=0)"
   ]
  },
  {
   "cell_type": "code",
   "execution_count": 5,
   "metadata": {},
   "outputs": [
    {
     "name": "stdout",
     "output_type": "stream",
     "text": [
      "50.82% of reviews are evaluated\n"
     ]
    },
    {
     "data": {
      "text/plain": [
       "<matplotlib.axes._subplots.AxesSubplot at 0x7faee37a1e10>"
      ]
     },
     "execution_count": 5,
     "metadata": {},
     "output_type": "execute_result"
    },
    {
     "data": {
      "image/png": "[encoded data removed]",
      "text/plain": [
       "<matplotlib.figure.Figure at 0x7fae70998908>"
      ]
     },
     "metadata": {},
     "output_type": "display_data"
    }
   ],
   "source": [
    "# We get all the \"helpfulness rates\" (removing the unrated comments)\n",
    "helpfulRates = video_games[video_games.helpfulRate > 0].helpfulRate\n",
    "\n",
    "print(str(round(len(helpfulRates) * 100 / len(video_games.helpfulRate), 2)) + '% of reviews are evaluated')\n",
    "\n",
    "helpfulRates.value_counts(ascending=True, bins=10).sort_index().plot(kind='bar', rot=0, figsize=(15, 5))"
   ]
  },
  {
   "cell_type": "code",
   "execution_count": 6,
   "metadata": {},
   "outputs": [
    {
     "data": {
      "text/plain": [
       "<matplotlib.axes._subplots.AxesSubplot at 0x7fae708d3710>"
      ]
     },
     "execution_count": 6,
     "metadata": {},
     "output_type": "execute_result"
    },
    {
     "data": {
      "image/png": "[encoded data removed]",
      "text/plain": [
       "<matplotlib.figure.Figure at 0x7fae7095da20>"
      ]
     },
     "metadata": {},
     "output_type": "display_data"
    }
   ],
   "source": [
    "count_evaluations = video_games.groupby('reviewerID').count().sort_values('helpful', ascending=False).helpful\n",
    "\n",
    "count_evaluations.plot(rot=90, figsize=(15, 5))"
   ]
  },
  {
   "cell_type": "markdown",
   "metadata": {},
   "source": [
    "Zooming to get only evaluators with more than 30 evaluations. We can see that evaluations are done by a restricted number of evaluators providing the majority of evaluations."
   ]
  },
  {
   "cell_type": "code",
   "execution_count": 7,
   "metadata": {},
   "outputs": [
    {
     "name": "stdout",
     "output_type": "stream",
     "text": [
      "1st best evaluator: 773\n",
      "2nd best evaluator: 635\n",
      "3rd best evaluator: 450\n",
      "4th best evaluator: 404\n",
      "5th best evaluator: 320\n"
     ]
    },
    {
     "data": {
      "image/png": "[encoded data removed]",
      "text/plain": [
       "<matplotlib.figure.Figure at 0x7fae708a2be0>"
      ]
     },
     "metadata": {},
     "output_type": "display_data"
    }
   ],
   "source": [
    "top_count_evaluations = count_evaluations[count_evaluations > 30]\n",
    "top_count_evaluations.plot(rot=90, figsize=(15, 5))\n",
    "\n",
    "print('1st best evaluator: ' + str(top_count_evaluations[0]))\n",
    "print('2nd best evaluator: ' + str(top_count_evaluations[1]))\n",
    "print('3rd best evaluator: ' + str(top_count_evaluations[3]))\n",
    "print('4th best evaluator: ' + str(top_count_evaluations[4]))\n",
    "print('5th best evaluator: ' + str(top_count_evaluations[5]))"
   ]
  },
  {
   "cell_type": "markdown",
   "metadata": {},
   "source": [
    "Focusing on the best evaluator, let's see if he provides well rated evaluations:"
   ]
  },
  {
   "cell_type": "code",
   "execution_count": 8,
   "metadata": {},
   "outputs": [
    {
     "data": {
      "text/plain": [
       "overall        4.316947\n",
       "helpfulRate    0.762964\n",
       "dtype: float64"
      ]
     },
     "execution_count": 8,
     "metadata": {},
     "output_type": "execute_result"
    }
   ],
   "source": [
    "best_reviewer_id = top_count_evaluations.index[0]\n",
    "\n",
    "video_games.groupby('reviewerID').get_group(best_reviewer_id).mean()"
   ]
  },
  {
   "cell_type": "markdown",
   "metadata": {},
   "source": [
    "Comparing it with all the others."
   ]
  },
  {
   "cell_type": "code",
   "execution_count": 9,
   "metadata": {},
   "outputs": [
    {
     "data": {
      "text/plain": [
       "4.0863965829666062"
      ]
     },
     "execution_count": 9,
     "metadata": {},
     "output_type": "execute_result"
    }
   ],
   "source": [
    "video_games.overall.mean()"
   ]
  },
  {
   "cell_type": "code",
   "execution_count": 11,
   "metadata": {},
   "outputs": [
    {
     "data": {
      "text/plain": [
       "0.73898469315193238"
      ]
     },
     "execution_count": 11,
     "metadata": {},
     "output_type": "execute_result"
    }
   ],
   "source": [
    "video_games[video_games.helpfulRate > 0].helpfulRate.mean()"
   ]
  },
  {
   "cell_type": "code",
   "execution_count": null,
   "metadata": {},
   "outputs": [],
   "source": []
  }
 ],
 "metadata": {
  "kernelspec": {
   "display_name": "Python [conda env:ada]",
   "language": "python",
   "name": "conda-env-ada-py"
  },
  "language_info": {
   "codemirror_mode": {
    "name": "ipython",
    "version": 3
   },
   "file_extension": ".py",
   "mimetype": "text/x-python",
   "name": "python",
   "nbconvert_exporter": "python",
   "pygments_lexer": "ipython3",
   "version": "3.5.4"
  }
 },
 "nbformat": 4,
 "nbformat_minor": 2
}
